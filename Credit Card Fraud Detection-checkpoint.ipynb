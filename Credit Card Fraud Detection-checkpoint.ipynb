{
 "cells": [
  {
   "cell_type": "markdown",
   "metadata": {
    "id": "SWPRLFv-E2OO"
   },
   "source": [
    "# Exploratory Data Analysis\n",
    "\n"
   ]
  },
  {
   "cell_type": "code",
   "execution_count": 3,
   "metadata": {
    "id": "GQz-_VgsE_hU"
   },
   "outputs": [],
   "source": [
    "import pandas as pd\n",
    "import numpy as np\n",
    "import seaborn as sns\n",
    "import matplotlib.pyplot as plt\n",
    "import matplotlib.gridspec as gridspec\n",
    "%matplotlib inline\n",
    "\n",
    "import warnings\n",
    "warnings.filterwarnings(\"ignore\")"
   ]
  },
  {
   "cell_type": "code",
   "execution_count": 4,
   "metadata": {
    "colab": {
     "base_uri": "https://localhost:8080/"
    },
    "executionInfo": {
     "elapsed": 27951,
     "status": "ok",
     "timestamp": 1628996144257,
     "user": {
      "displayName": "Dhvani Shah",
      "photoUrl": "https://lh3.googleusercontent.com/a-/AOh14GjWWRO4p6VF30NsVnqYt5SZkHtePts5b_H5X9PDsQ=s64",
      "userId": "07124916273541389313"
     },
     "user_tz": -330
    },
    "id": "XHhcjsoxW_8u",
    "outputId": "7ac6bc1d-19de-4ef1-8a5d-af4de461c598"
   },
   "outputs": [],
   "source": [
    "# from google.colab import drive\n",
    "# drive.mount('/gdrive')\n",
    "# %cd /gdrive\n",
    "# %cd MyDrive"
   ]
  },
  {
   "cell_type": "markdown",
   "metadata": {
    "id": "QOu-Lx__Ztcb"
   },
   "source": [
    "# New section"
   ]
  },
  {
   "cell_type": "markdown",
   "metadata": {
    "id": "xBbXBmM5-Emj"
   },
   "source": [
    "The dataset contains transactions made by credit cards in September 2013 by European cardholders.\n",
    "This dataset presents transactions that occurred in two days, where we have 492 frauds out of 284,807 transactions. The dataset is highly unbalanced, the positive class (frauds) account for 0.172% of all transactions.\n",
    "\n",
    "It contains only numerical input variables which are the result of a PCA transformation. Due to confidentiality issues, we cannot have the original features and more background information about the data. Features V1, V2, … V28 are the principal components obtained with PCA, the only features which have not been transformed with PCA are 'Time' and 'Amount'. Feature 'Time' contains the seconds elapsed between each transaction and the first transaction in the dataset. The feature 'Amount' is the transaction Amount, this feature can be used for example-dependant cost-sensitive learning. Feature 'Class' is the response variable and it takes value 1 in case of fraud and 0 otherwise.\n",
    "\n",
    "Go ahead and run the following cells to get started with data\n",
    "\n",
    "Source: https://www.kaggle.com/mlg-ulb/creditcardfraud?select=creditcard.csv\n"
   ]
  },
  {
   "cell_type": "code",
   "execution_count": 5,
   "metadata": {
    "id": "eI6cFTHMYbl7"
   },
   "outputs": [
    {
     "ename": "FileNotFoundError",
     "evalue": "[Errno 2] File creditcard.csv does not exist: 'creditcard.csv'",
     "output_type": "error",
     "traceback": [
      "\u001b[1;31m---------------------------------------------------------------------------\u001b[0m",
      "\u001b[1;31mFileNotFoundError\u001b[0m                         Traceback (most recent call last)",
      "\u001b[1;32m<ipython-input-5-d47ba750ceff>\u001b[0m in \u001b[0;36m<module>\u001b[1;34m\u001b[0m\n\u001b[1;32m----> 1\u001b[1;33m \u001b[0mdf\u001b[0m \u001b[1;33m=\u001b[0m \u001b[0mpd\u001b[0m\u001b[1;33m.\u001b[0m\u001b[0mread_csv\u001b[0m\u001b[1;33m(\u001b[0m\u001b[1;34m'creditcard.csv'\u001b[0m\u001b[1;33m)\u001b[0m\u001b[1;33m\u001b[0m\u001b[1;33m\u001b[0m\u001b[0m\n\u001b[0m",
      "\u001b[1;32m~\\anaconda3\\lib\\site-packages\\pandas\\io\\parsers.py\u001b[0m in \u001b[0;36mparser_f\u001b[1;34m(filepath_or_buffer, sep, delimiter, header, names, index_col, usecols, squeeze, prefix, mangle_dupe_cols, dtype, engine, converters, true_values, false_values, skipinitialspace, skiprows, skipfooter, nrows, na_values, keep_default_na, na_filter, verbose, skip_blank_lines, parse_dates, infer_datetime_format, keep_date_col, date_parser, dayfirst, cache_dates, iterator, chunksize, compression, thousands, decimal, lineterminator, quotechar, quoting, doublequote, escapechar, comment, encoding, dialect, error_bad_lines, warn_bad_lines, delim_whitespace, low_memory, memory_map, float_precision)\u001b[0m\n\u001b[0;32m    674\u001b[0m         )\n\u001b[0;32m    675\u001b[0m \u001b[1;33m\u001b[0m\u001b[0m\n\u001b[1;32m--> 676\u001b[1;33m         \u001b[1;32mreturn\u001b[0m \u001b[0m_read\u001b[0m\u001b[1;33m(\u001b[0m\u001b[0mfilepath_or_buffer\u001b[0m\u001b[1;33m,\u001b[0m \u001b[0mkwds\u001b[0m\u001b[1;33m)\u001b[0m\u001b[1;33m\u001b[0m\u001b[1;33m\u001b[0m\u001b[0m\n\u001b[0m\u001b[0;32m    677\u001b[0m \u001b[1;33m\u001b[0m\u001b[0m\n\u001b[0;32m    678\u001b[0m     \u001b[0mparser_f\u001b[0m\u001b[1;33m.\u001b[0m\u001b[0m__name__\u001b[0m \u001b[1;33m=\u001b[0m \u001b[0mname\u001b[0m\u001b[1;33m\u001b[0m\u001b[1;33m\u001b[0m\u001b[0m\n",
      "\u001b[1;32m~\\anaconda3\\lib\\site-packages\\pandas\\io\\parsers.py\u001b[0m in \u001b[0;36m_read\u001b[1;34m(filepath_or_buffer, kwds)\u001b[0m\n\u001b[0;32m    446\u001b[0m \u001b[1;33m\u001b[0m\u001b[0m\n\u001b[0;32m    447\u001b[0m     \u001b[1;31m# Create the parser.\u001b[0m\u001b[1;33m\u001b[0m\u001b[1;33m\u001b[0m\u001b[1;33m\u001b[0m\u001b[0m\n\u001b[1;32m--> 448\u001b[1;33m     \u001b[0mparser\u001b[0m \u001b[1;33m=\u001b[0m \u001b[0mTextFileReader\u001b[0m\u001b[1;33m(\u001b[0m\u001b[0mfp_or_buf\u001b[0m\u001b[1;33m,\u001b[0m \u001b[1;33m**\u001b[0m\u001b[0mkwds\u001b[0m\u001b[1;33m)\u001b[0m\u001b[1;33m\u001b[0m\u001b[1;33m\u001b[0m\u001b[0m\n\u001b[0m\u001b[0;32m    449\u001b[0m \u001b[1;33m\u001b[0m\u001b[0m\n\u001b[0;32m    450\u001b[0m     \u001b[1;32mif\u001b[0m \u001b[0mchunksize\u001b[0m \u001b[1;32mor\u001b[0m \u001b[0miterator\u001b[0m\u001b[1;33m:\u001b[0m\u001b[1;33m\u001b[0m\u001b[1;33m\u001b[0m\u001b[0m\n",
      "\u001b[1;32m~\\anaconda3\\lib\\site-packages\\pandas\\io\\parsers.py\u001b[0m in \u001b[0;36m__init__\u001b[1;34m(self, f, engine, **kwds)\u001b[0m\n\u001b[0;32m    878\u001b[0m             \u001b[0mself\u001b[0m\u001b[1;33m.\u001b[0m\u001b[0moptions\u001b[0m\u001b[1;33m[\u001b[0m\u001b[1;34m\"has_index_names\"\u001b[0m\u001b[1;33m]\u001b[0m \u001b[1;33m=\u001b[0m \u001b[0mkwds\u001b[0m\u001b[1;33m[\u001b[0m\u001b[1;34m\"has_index_names\"\u001b[0m\u001b[1;33m]\u001b[0m\u001b[1;33m\u001b[0m\u001b[1;33m\u001b[0m\u001b[0m\n\u001b[0;32m    879\u001b[0m \u001b[1;33m\u001b[0m\u001b[0m\n\u001b[1;32m--> 880\u001b[1;33m         \u001b[0mself\u001b[0m\u001b[1;33m.\u001b[0m\u001b[0m_make_engine\u001b[0m\u001b[1;33m(\u001b[0m\u001b[0mself\u001b[0m\u001b[1;33m.\u001b[0m\u001b[0mengine\u001b[0m\u001b[1;33m)\u001b[0m\u001b[1;33m\u001b[0m\u001b[1;33m\u001b[0m\u001b[0m\n\u001b[0m\u001b[0;32m    881\u001b[0m \u001b[1;33m\u001b[0m\u001b[0m\n\u001b[0;32m    882\u001b[0m     \u001b[1;32mdef\u001b[0m \u001b[0mclose\u001b[0m\u001b[1;33m(\u001b[0m\u001b[0mself\u001b[0m\u001b[1;33m)\u001b[0m\u001b[1;33m:\u001b[0m\u001b[1;33m\u001b[0m\u001b[1;33m\u001b[0m\u001b[0m\n",
      "\u001b[1;32m~\\anaconda3\\lib\\site-packages\\pandas\\io\\parsers.py\u001b[0m in \u001b[0;36m_make_engine\u001b[1;34m(self, engine)\u001b[0m\n\u001b[0;32m   1112\u001b[0m     \u001b[1;32mdef\u001b[0m \u001b[0m_make_engine\u001b[0m\u001b[1;33m(\u001b[0m\u001b[0mself\u001b[0m\u001b[1;33m,\u001b[0m \u001b[0mengine\u001b[0m\u001b[1;33m=\u001b[0m\u001b[1;34m\"c\"\u001b[0m\u001b[1;33m)\u001b[0m\u001b[1;33m:\u001b[0m\u001b[1;33m\u001b[0m\u001b[1;33m\u001b[0m\u001b[0m\n\u001b[0;32m   1113\u001b[0m         \u001b[1;32mif\u001b[0m \u001b[0mengine\u001b[0m \u001b[1;33m==\u001b[0m \u001b[1;34m\"c\"\u001b[0m\u001b[1;33m:\u001b[0m\u001b[1;33m\u001b[0m\u001b[1;33m\u001b[0m\u001b[0m\n\u001b[1;32m-> 1114\u001b[1;33m             \u001b[0mself\u001b[0m\u001b[1;33m.\u001b[0m\u001b[0m_engine\u001b[0m \u001b[1;33m=\u001b[0m \u001b[0mCParserWrapper\u001b[0m\u001b[1;33m(\u001b[0m\u001b[0mself\u001b[0m\u001b[1;33m.\u001b[0m\u001b[0mf\u001b[0m\u001b[1;33m,\u001b[0m \u001b[1;33m**\u001b[0m\u001b[0mself\u001b[0m\u001b[1;33m.\u001b[0m\u001b[0moptions\u001b[0m\u001b[1;33m)\u001b[0m\u001b[1;33m\u001b[0m\u001b[1;33m\u001b[0m\u001b[0m\n\u001b[0m\u001b[0;32m   1115\u001b[0m         \u001b[1;32melse\u001b[0m\u001b[1;33m:\u001b[0m\u001b[1;33m\u001b[0m\u001b[1;33m\u001b[0m\u001b[0m\n\u001b[0;32m   1116\u001b[0m             \u001b[1;32mif\u001b[0m \u001b[0mengine\u001b[0m \u001b[1;33m==\u001b[0m \u001b[1;34m\"python\"\u001b[0m\u001b[1;33m:\u001b[0m\u001b[1;33m\u001b[0m\u001b[1;33m\u001b[0m\u001b[0m\n",
      "\u001b[1;32m~\\anaconda3\\lib\\site-packages\\pandas\\io\\parsers.py\u001b[0m in \u001b[0;36m__init__\u001b[1;34m(self, src, **kwds)\u001b[0m\n\u001b[0;32m   1889\u001b[0m         \u001b[0mkwds\u001b[0m\u001b[1;33m[\u001b[0m\u001b[1;34m\"usecols\"\u001b[0m\u001b[1;33m]\u001b[0m \u001b[1;33m=\u001b[0m \u001b[0mself\u001b[0m\u001b[1;33m.\u001b[0m\u001b[0musecols\u001b[0m\u001b[1;33m\u001b[0m\u001b[1;33m\u001b[0m\u001b[0m\n\u001b[0;32m   1890\u001b[0m \u001b[1;33m\u001b[0m\u001b[0m\n\u001b[1;32m-> 1891\u001b[1;33m         \u001b[0mself\u001b[0m\u001b[1;33m.\u001b[0m\u001b[0m_reader\u001b[0m \u001b[1;33m=\u001b[0m \u001b[0mparsers\u001b[0m\u001b[1;33m.\u001b[0m\u001b[0mTextReader\u001b[0m\u001b[1;33m(\u001b[0m\u001b[0msrc\u001b[0m\u001b[1;33m,\u001b[0m \u001b[1;33m**\u001b[0m\u001b[0mkwds\u001b[0m\u001b[1;33m)\u001b[0m\u001b[1;33m\u001b[0m\u001b[1;33m\u001b[0m\u001b[0m\n\u001b[0m\u001b[0;32m   1892\u001b[0m         \u001b[0mself\u001b[0m\u001b[1;33m.\u001b[0m\u001b[0munnamed_cols\u001b[0m \u001b[1;33m=\u001b[0m \u001b[0mself\u001b[0m\u001b[1;33m.\u001b[0m\u001b[0m_reader\u001b[0m\u001b[1;33m.\u001b[0m\u001b[0munnamed_cols\u001b[0m\u001b[1;33m\u001b[0m\u001b[1;33m\u001b[0m\u001b[0m\n\u001b[0;32m   1893\u001b[0m \u001b[1;33m\u001b[0m\u001b[0m\n",
      "\u001b[1;32mpandas\\_libs\\parsers.pyx\u001b[0m in \u001b[0;36mpandas._libs.parsers.TextReader.__cinit__\u001b[1;34m()\u001b[0m\n",
      "\u001b[1;32mpandas\\_libs\\parsers.pyx\u001b[0m in \u001b[0;36mpandas._libs.parsers.TextReader._setup_parser_source\u001b[1;34m()\u001b[0m\n",
      "\u001b[1;31mFileNotFoundError\u001b[0m: [Errno 2] File creditcard.csv does not exist: 'creditcard.csv'"
     ]
    }
   ],
   "source": [
    "df = pd.read_csv('creditcard.csv')"
   ]
  },
  {
   "cell_type": "code",
   "execution_count": null,
   "metadata": {
    "id": "6NtxBMbZyHZb"
   },
   "outputs": [],
   "source": [
    "df.head()"
   ]
  },
  {
   "cell_type": "code",
   "execution_count": null,
   "metadata": {
    "id": "wxxYHUw2yYfX"
   },
   "outputs": [],
   "source": [
    "df.info()"
   ]
  },
  {
   "cell_type": "code",
   "execution_count": null,
   "metadata": {
    "id": "2I44hkinyatf"
   },
   "outputs": [],
   "source": [
    "df.describe()"
   ]
  },
  {
   "cell_type": "code",
   "execution_count": null,
   "metadata": {
    "id": "vyVtMkbnydva"
   },
   "outputs": [],
   "source": [
    "df.dtypes"
   ]
  },
  {
   "cell_type": "code",
   "execution_count": null,
   "metadata": {
    "id": "VzfhDTPnyg9I"
   },
   "outputs": [],
   "source": [
    "df.isnull().sum()"
   ]
  },
  {
   "cell_type": "code",
   "execution_count": null,
   "metadata": {
    "id": "vNcy6MOlyllM"
   },
   "outputs": [],
   "source": [
    "fraud = round(len(df[df['Class']==1])/len(df)*100,2)\n",
    "nofraud = round(len(df[df['Class']==0])/len(df)*100,2)\n",
    "\n",
    "print(\"No fraud transactions are:\",str(nofraud)+'%',\"of the dataset\")\n",
    "print(\"Fraud transactions are:\",str(fraud)+'%',\"of the dataset\")"
   ]
  },
  {
   "cell_type": "markdown",
   "metadata": {
    "id": "pku74voL-l4m"
   },
   "source": [
    "***UNIVARIETE ANALYSIS***\n",
    "\n",
    "Univariate analysis generally refers to the data analysis where there is only one dependent variable. The main goal of the univariate analysis is to summarize the data. We can easily identify measures of central tendency like mean, median, mode, the quartiles, and the standard deviation.\n",
    "\n",
    "\n",
    "***BIVARIETE ANALYSIS***\n",
    "\n",
    "Bivariate analysis happens between 2 variables to identify the relationship between them. There are three types of bivariate analysis:\n",
    "1. Numerical-Numerical (scatter plot, linear correlation)\n",
    "2. Categorical-Categorical (Chi-Square)\n",
    "3. Numerical-Categorical (Z-test, T-test)\n",
    "\n",
    "[Exploratory Data Analysis Reference Article](https://www.analyticsvidhya.com/blog/2021/04/exploratory-analysis-using-univariate-bivariate-and-multivariate-analysis-techniques/)\n",
    "\n",
    "[Exploratory Data Analysis Reference Video](https://www.youtube.com/watch?v=-o3AxdVcUtQ)"
   ]
  },
  {
   "cell_type": "markdown",
   "metadata": {
    "id": "8gwUkjIAzPn6"
   },
   "source": [
    "UNIVARIATE ANALYSIS"
   ]
  },
  {
   "cell_type": "markdown",
   "metadata": {
    "id": "thFQzN4THRt5"
   },
   "source": [
    "To start our data analysis we are going to do univariate and bivariate analysis, taking the following as features we are going to do out univariate analysis first.\n",
    "\n",
    "1. Class\n",
    "2. Amount\n",
    "3. Transaction time\n",
    "4. all the remaining features[V1....V28]"
   ]
  },
  {
   "cell_type": "markdown",
   "metadata": {
    "id": "2IJ6FQdJMzJT"
   },
   "source": [
    "We can see that our class variable is highly imbalanced as we already know"
   ]
  },
  {
   "cell_type": "code",
   "execution_count": null,
   "metadata": {
    "colab": {
     "base_uri": "https://localhost:8080/",
     "height": 312
    },
    "executionInfo": {
     "elapsed": 1933,
     "status": "ok",
     "timestamp": 1628996180647,
     "user": {
      "displayName": "Dhvani Shah",
      "photoUrl": "https://lh3.googleusercontent.com/a-/AOh14GjWWRO4p6VF30NsVnqYt5SZkHtePts5b_H5X9PDsQ=s64",
      "userId": "07124916273541389313"
     },
     "user_tz": -330
    },
    "id": "cRkJv9WZzW9F",
    "outputId": "fbcb7c0f-f703-441d-f886-c5d83cf7d503"
   },
   "outputs": [],
   "source": [
    "sns.countplot(x='Class',data=df)\n",
    "plt.title(\"0: Non-fraudulent 1: Fraudulent\")"
   ]
  },
  {
   "cell_type": "markdown",
   "metadata": {
    "id": "OWb2twESzlkJ"
   },
   "source": [
    "\n",
    "\n",
    "*   The amount variable is mostl dense around the samllar amount regions.\n",
    "\n"
   ]
  },
  {
   "cell_type": "code",
   "execution_count": null,
   "metadata": {
    "colab": {
     "base_uri": "https://localhost:8080/",
     "height": 421
    },
    "executionInfo": {
     "elapsed": 2650,
     "status": "ok",
     "timestamp": 1628996186176,
     "user": {
      "displayName": "Dhvani Shah",
      "photoUrl": "https://lh3.googleusercontent.com/a-/AOh14GjWWRO4p6VF30NsVnqYt5SZkHtePts5b_H5X9PDsQ=s64",
      "userId": "07124916273541389313"
     },
     "user_tz": -330
    },
    "id": "lhMasXtKzuYX",
    "outputId": "6ff57f0f-cfa0-4420-a302-15a619e63d0d"
   },
   "outputs": [],
   "source": [
    "amount_val = df['Amount'].values\n",
    "plt.figure(figsize = (12,6))\n",
    "sns.distplot(df['Amount'])\n",
    "plt.xlim(min(amount_val),max(amount_val))\n",
    "plt.title(\"Distribution of Amount\")"
   ]
  },
  {
   "cell_type": "markdown",
   "metadata": {
    "id": "NDKEtgKJ07nV"
   },
   "source": [
    "Time has **bimodal distribution** i.e. the peak rises and falls down and rises again. The fall might happen due to night time."
   ]
  },
  {
   "cell_type": "code",
   "execution_count": null,
   "metadata": {
    "colab": {
     "base_uri": "https://localhost:8080/",
     "height": 421
    },
    "executionInfo": {
     "elapsed": 2948,
     "status": "ok",
     "timestamp": 1628996196734,
     "user": {
      "displayName": "Dhvani Shah",
      "photoUrl": "https://lh3.googleusercontent.com/a-/AOh14GjWWRO4p6VF30NsVnqYt5SZkHtePts5b_H5X9PDsQ=s64",
      "userId": "07124916273541389313"
     },
     "user_tz": -330
    },
    "id": "T6SyUfyh0jvk",
    "outputId": "a67e0006-94d2-4f4e-aecb-a6f753dbe45d"
   },
   "outputs": [],
   "source": [
    "time_val = df['Time'].values\n",
    "plt.figure(figsize=(12,6))\n",
    "sns.distplot(df['Time'])\n",
    "plt.xlim(min(time_val),max(time_val))\n",
    "plt.title(\"Distribution of transaction time\")"
   ]
  },
  {
   "cell_type": "markdown",
   "metadata": {
    "id": "t9cn4SuoN9nu"
   },
   "source": [
    "And similarly we have plotted all our features individually and the intersting inferences from them are listed below"
   ]
  },
  {
   "cell_type": "code",
   "execution_count": null,
   "metadata": {
    "colab": {
     "base_uri": "https://localhost:8080/",
     "height": 1000
    },
    "executionInfo": {
     "elapsed": 15167,
     "status": "ok",
     "timestamp": 1628996215465,
     "user": {
      "displayName": "Dhvani Shah",
      "photoUrl": "https://lh3.googleusercontent.com/a-/AOh14GjWWRO4p6VF30NsVnqYt5SZkHtePts5b_H5X9PDsQ=s64",
      "userId": "07124916273541389313"
     },
     "user_tz": -330
    },
    "id": "U4lDheQ_1KKc",
    "outputId": "b57e1188-8a42-4f57-ba45-0293e72a475c"
   },
   "outputs": [],
   "source": [
    "#distribution of the different features\n",
    "\n",
    "fig, ax = plt.subplots(nrows=7,ncols=4,figsize=(16,24))\n",
    "\n",
    "for i in range(1,29):\n",
    "  m = (i-1)//4\n",
    "  n = (i-1)%4\n",
    "  col = 'V' + str(i)\n",
    "  ax[m,n].hist(df[col],bins=40)\n",
    "  ax[m,n].set_title(col)\n",
    "  ax[m,n].vlines(x=df[col].mean(),ymin=0,ymax=10**3,linestyle='dashed',colors='g')\n",
    "  ax[m,n].set_yscale('log')"
   ]
  },
  {
   "cell_type": "markdown",
   "metadata": {
    "id": "gD1AaPYq17R-"
   },
   "source": [
    "BIVARIATE ANALYSIS"
   ]
  },
  {
   "cell_type": "markdown",
   "metadata": {
    "id": "lGHoTxY3OWKE"
   },
   "source": [
    "Bivariate analysis content"
   ]
  },
  {
   "cell_type": "markdown",
   "metadata": {
    "id": "OMW27-Uw2Jr9"
   },
   "source": [
    "It can be cleared observed that there are very less data points having amount greater than 10,000(all in the non-fraudulent category), hence we can exclude these from our dataset."
   ]
  },
  {
   "cell_type": "code",
   "execution_count": null,
   "metadata": {
    "colab": {
     "base_uri": "https://localhost:8080/",
     "height": 312
    },
    "executionInfo": {
     "elapsed": 411,
     "status": "ok",
     "timestamp": 1628996234980,
     "user": {
      "displayName": "Dhvani Shah",
      "photoUrl": "https://lh3.googleusercontent.com/a-/AOh14GjWWRO4p6VF30NsVnqYt5SZkHtePts5b_H5X9PDsQ=s64",
      "userId": "07124916273541389313"
     },
     "user_tz": -330
    },
    "id": "gBvsXkHc19rJ",
    "outputId": "ddf11e75-c63c-48e5-f6b6-e24384bbffdc"
   },
   "outputs": [],
   "source": [
    "#class vs amount\n",
    "sns.boxplot(x='Class',y='Amount',data=df)\n",
    "plt.title('Amount vs Class')"
   ]
  },
  {
   "cell_type": "code",
   "execution_count": null,
   "metadata": {
    "colab": {
     "base_uri": "https://localhost:8080/",
     "height": 286
    },
    "executionInfo": {
     "elapsed": 18,
     "status": "ok",
     "timestamp": 1628996238058,
     "user": {
      "displayName": "Dhvani Shah",
      "photoUrl": "https://lh3.googleusercontent.com/a-/AOh14GjWWRO4p6VF30NsVnqYt5SZkHtePts5b_H5X9PDsQ=s64",
      "userId": "07124916273541389313"
     },
     "user_tz": -330
    },
    "id": "zQUom8K72Y6w",
    "outputId": "5ae17eb7-d29b-4e36-b6f0-8bb3d17c2c88"
   },
   "outputs": [],
   "source": [
    "#checking the above observation\n",
    "df[df['Amount']>10000]"
   ]
  },
  {
   "cell_type": "code",
   "execution_count": null,
   "metadata": {
    "colab": {
     "base_uri": "https://localhost:8080/",
     "height": 317
    },
    "executionInfo": {
     "elapsed": 1107,
     "status": "ok",
     "timestamp": 1628996241722,
     "user": {
      "displayName": "Dhvani Shah",
      "photoUrl": "https://lh3.googleusercontent.com/a-/AOh14GjWWRO4p6VF30NsVnqYt5SZkHtePts5b_H5X9PDsQ=s64",
      "userId": "07124916273541389313"
     },
     "user_tz": -330
    },
    "id": "qM39i21V2hQM",
    "outputId": "044b168b-b60a-4c83-f5b4-b56ae3a6f3dc"
   },
   "outputs": [],
   "source": [
    "#excluding the above mentioned points\n",
    "df = df[df['Amount']<10000]\n",
    "df.describe()"
   ]
  },
  {
   "cell_type": "code",
   "execution_count": null,
   "metadata": {
    "colab": {
     "base_uri": "https://localhost:8080/",
     "height": 312
    },
    "executionInfo": {
     "elapsed": 61,
     "status": "ok",
     "timestamp": 1628996244156,
     "user": {
      "displayName": "Dhvani Shah",
      "photoUrl": "https://lh3.googleusercontent.com/a-/AOh14GjWWRO4p6VF30NsVnqYt5SZkHtePts5b_H5X9PDsQ=s64",
      "userId": "07124916273541389313"
     },
     "user_tz": -330
    },
    "id": "WWVLTR6w2qfK",
    "outputId": "3ab41143-a5d9-44a9-e0ea-e56bef7df8ce"
   },
   "outputs": [],
   "source": [
    "sns.boxplot(x='Class',y='Amount',data=df)\n",
    "plt.title('Amount vs Class')"
   ]
  },
  {
   "cell_type": "markdown",
   "metadata": {
    "id": "Yi4MEMrgOYEd"
   },
   "source": [
    "Let's add \"Time_min\"(minute) and \"Time_hour\"(hour) column to our data for to see if we can get some more insigths."
   ]
  },
  {
   "cell_type": "code",
   "execution_count": null,
   "metadata": {
    "id": "2jO50hYE243a"
   },
   "outputs": [],
   "source": [
    "#amount vs time distribution\n",
    "\n",
    "data_new = df\n",
    "timedelta = pd.to_timedelta(data_new['Time'],unit='s')\n",
    "\n",
    "data_new['Time_min'] = (timedelta.dt.components.minutes).astype(int)\n",
    "data_new['Time_hour'] = (timedelta.dt.components.hours).astype(int)"
   ]
  },
  {
   "cell_type": "markdown",
   "metadata": {
    "id": "0403SgDqPG2h"
   },
   "source": [
    "So as we can see transactions both fraud and legitimate are more or less uniformly distributed throughout Time_min."
   ]
  },
  {
   "cell_type": "code",
   "execution_count": null,
   "metadata": {
    "colab": {
     "base_uri": "https://localhost:8080/",
     "height": 418
    },
    "executionInfo": {
     "elapsed": 3722,
     "status": "ok",
     "timestamp": 1628996272021,
     "user": {
      "displayName": "Dhvani Shah",
      "photoUrl": "https://lh3.googleusercontent.com/a-/AOh14GjWWRO4p6VF30NsVnqYt5SZkHtePts5b_H5X9PDsQ=s64",
      "userId": "07124916273541389313"
     },
     "user_tz": -330
    },
    "id": "ApofPKDc4XAQ",
    "outputId": "b8e7780d-dae2-43df-f8d0-a74583c34124"
   },
   "outputs": [],
   "source": [
    "ax = sns.lmplot(y='Amount',x='Time_min',fit_reg=False,aspect=2.5,data=data_new,hue='Class')\n",
    "plt.title(\"Amounts by Minutes of Frauds and Normal Transactions\",fontsize=12)"
   ]
  },
  {
   "cell_type": "markdown",
   "metadata": {
    "id": "l2SuvMPpPquQ"
   },
   "source": [
    "Now transactions show a more non uniform disribution accross Time_hour which makes sense but still we see no particular pattern to distinguish fraud and non-fraud from this analysis, non-fraud volume is more on active hour compared to lean hours."
   ]
  },
  {
   "cell_type": "code",
   "execution_count": null,
   "metadata": {
    "colab": {
     "base_uri": "https://localhost:8080/",
     "height": 418
    },
    "executionInfo": {
     "elapsed": 3323,
     "status": "ok",
     "timestamp": 1628996279258,
     "user": {
      "displayName": "Dhvani Shah",
      "photoUrl": "https://lh3.googleusercontent.com/a-/AOh14GjWWRO4p6VF30NsVnqYt5SZkHtePts5b_H5X9PDsQ=s64",
      "userId": "07124916273541389313"
     },
     "user_tz": -330
    },
    "id": "5tNr7Zun46me",
    "outputId": "2a7cbdbf-2be7-48c8-c6ab-4fca6bb72f01"
   },
   "outputs": [],
   "source": [
    "ax = sns.lmplot(y='Amount',x='Time_hour',fit_reg=False,aspect=2.5,data=data_new,hue='Class')\n",
    "plt.title(\"Amounts by hours of Frauds and Normal Transactions\",fontsize=12)"
   ]
  },
  {
   "cell_type": "markdown",
   "metadata": {
    "id": "Z9Gg4bDLQM-o"
   },
   "source": [
    "This confirms the pattern oberserved above about non-fraud and also shows that fraud transactions are much more uniform accorss the day."
   ]
  },
  {
   "cell_type": "code",
   "execution_count": null,
   "metadata": {
    "colab": {
     "base_uri": "https://localhost:8080/",
     "height": 532
    },
    "executionInfo": {
     "elapsed": 2513,
     "status": "ok",
     "timestamp": 1628996286330,
     "user": {
      "displayName": "Dhvani Shah",
      "photoUrl": "https://lh3.googleusercontent.com/a-/AOh14GjWWRO4p6VF30NsVnqYt5SZkHtePts5b_H5X9PDsQ=s64",
      "userId": "07124916273541389313"
     },
     "user_tz": -330
    },
    "id": "lkkotHSM5bS3",
    "outputId": "6cee8c87-2322-4af3-c104-60b86ab25f4c"
   },
   "outputs": [],
   "source": [
    "plt.figure(figsize=(15,8))\n",
    "sns.distplot(data_new[data_new['Class']==0]['Time_hour'],color='g')\n",
    "sns.distplot(data_new[data_new['Class']==1]['Time_hour'],color='r')\n",
    "plt.title('Fraud x Normal transaction by Hours (Red: Fraud; Green: Normal',fontsize=12)\n",
    "plt.xlim([-1,25])"
   ]
  },
  {
   "cell_type": "markdown",
   "metadata": {
    "id": "BBSsEgAQ_EsA"
   },
   "source": [
    "\n",
    "***CONCLUSIONS FROM EDA***\n",
    "1. The data consisted of around 2,85,000 data points, 30 features including time and amount, and the labeled class of whether a transaction is actually fraud or not. \n",
    "2. There were no null values present in the original dataset but the data was highly skewed with 99.83% of the data points being non-fraudulent transactions.\n",
    "3. The time feature had a bimodal distribution i.e. peaks falling and rising. I have concluded that the peaks might fall due to lesser transactions during nighttime.\n",
    "4. Very small proportion of transactions had amounts > 10,000 hence they were eliminated from the dataset.\n",
    "5. Most of the fraudulent transactions were of small amounts (<1000 units - since we don’t know about the units about the currency).\n",
    "6. The occurrence of fraudulent transactions was independent of the time of the day.\n",
    "\n",
    "\n",
    "\n"
   ]
  },
  {
   "cell_type": "markdown",
   "metadata": {
    "id": "siwsw0C__WO1"
   },
   "source": [
    "# **Data Preprocessing**"
   ]
  },
  {
   "cell_type": "markdown",
   "metadata": {
    "id": "Qj_dL4qA7QZd"
   },
   "source": [
    "SCALING"
   ]
  },
  {
   "cell_type": "markdown",
   "metadata": {
    "id": "LiuGcRMQ_PFf"
   },
   "source": [
    "[Reference Video 1](https://www.youtube.com/watch?v=goMoUHl8q6c)\n",
    "\n",
    "[Reference Video 2](https://www.youtube.com/watch?v=mnKm3YP56PY)\n",
    "\n",
    "[Reference Article](https://www.analyticsvidhya.com/blog/2020/04/feature-scaling-machine-learning-normalization-standardization/)"
   ]
  },
  {
   "cell_type": "markdown",
   "metadata": {
    "id": "VoKC1bl08nXf"
   },
   "source": [
    "Standardization and Robust Scalar"
   ]
  },
  {
   "cell_type": "markdown",
   "metadata": {
    "id": "UGxWgQde9PnL"
   },
   "source": [
    "Since fraud transactions which are also low in number have relatively smaller value(amount) so we need to have our data scaled, We are going to use robust scalar to scale our data.\n",
    "\n",
    "Go through [sklaern.preprocessing](https://https://scikit-learn.org/stable/modules/classes.html#module-sklearn.preprocessing) to know about all different kind of scalars present \n",
    "\n"
   ]
  },
  {
   "cell_type": "code",
   "execution_count": null,
   "metadata": {
    "id": "5ujv44mF8q_n"
   },
   "outputs": [],
   "source": [
    "from sklearn.preprocessing import RobustScaler\n",
    "\n",
    "rob_scaler = RobustScaler()\n",
    "\n",
    "df['scaled_amount'] = rob_scaler.fit_transform(df['Amount'].values.reshape(-1,1))\n",
    "\n",
    "df.drop(['Time','Amount'],axis=1,inplace=True)"
   ]
  },
  {
   "cell_type": "code",
   "execution_count": null,
   "metadata": {
    "id": "3saw9Ecg9kPd"
   },
   "outputs": [],
   "source": [
    "df.drop(['Time_min','Time_hour'],axis=1,inplace=True)"
   ]
  },
  {
   "cell_type": "code",
   "execution_count": null,
   "metadata": {
    "colab": {
     "base_uri": "https://localhost:8080/",
     "height": 224
    },
    "executionInfo": {
     "elapsed": 410,
     "status": "ok",
     "timestamp": 1628996298119,
     "user": {
      "displayName": "Dhvani Shah",
      "photoUrl": "https://lh3.googleusercontent.com/a-/AOh14GjWWRO4p6VF30NsVnqYt5SZkHtePts5b_H5X9PDsQ=s64",
      "userId": "07124916273541389313"
     },
     "user_tz": -330
    },
    "id": "zNj16U299v98",
    "outputId": "e086eaf7-2b4a-4e62-ecf5-52c7607bd4b5"
   },
   "outputs": [],
   "source": [
    "#inserting these scaled columns at 0,1\n",
    "scaled_amount = df['scaled_amount']\n",
    "\n",
    "df.drop(['scaled_amount'],axis=1,inplace=True)\n",
    "df.insert(0,'scaled_amount',scaled_amount)\n",
    "\n",
    "df.head()"
   ]
  },
  {
   "cell_type": "markdown",
   "metadata": {
    "id": "jLOQfv4M_caD"
   },
   "source": [
    "SPLITING THE DATASET"
   ]
  },
  {
   "cell_type": "markdown",
   "metadata": {
    "id": "HfLrTo7b_ORX"
   },
   "source": [
    "Splitting data is the first step to model training and here we are using *StratifiedKFold*, it maintains the class distribution in training and test data which is much needed in imbalanced distribution like ours.:\n",
    "\n",
    "Read more about splitting function from [sklearn.model_selection](https://scikit-learn.org/stable/modules/classes.html#module-sklearn.model_selection) and [StratifiedKFold](https://scikit-learn.org/stable/modules/generated/sklearn.model_selection.StratifiedKFold.html#sklearn.model_selection.StratifiedKFold)\n",
    "\n",
    "\n",
    "\n",
    "\n",
    "\n"
   ]
  },
  {
   "cell_type": "code",
   "execution_count": null,
   "metadata": {
    "colab": {
     "base_uri": "https://localhost:8080/"
    },
    "executionInfo": {
     "elapsed": 377,
     "status": "ok",
     "timestamp": 1628996304301,
     "user": {
      "displayName": "Dhvani Shah",
      "photoUrl": "https://lh3.googleusercontent.com/a-/AOh14GjWWRO4p6VF30NsVnqYt5SZkHtePts5b_H5X9PDsQ=s64",
      "userId": "07124916273541389313"
     },
     "user_tz": -330
    },
    "id": "TssLjSwW_e2F",
    "outputId": "7b374467-7287-490a-d4a0-f8580bcf0c7b"
   },
   "outputs": [],
   "source": [
    "from sklearn.model_selection import StratifiedKFold\n",
    "\n",
    "X = df.drop('Class',axis=1)\n",
    "y = df['Class']\n",
    "\n",
    "sss = StratifiedKFold(n_splits=5,random_state=None,shuffle=False)\n",
    "\n",
    "for train_index, test_index in sss.split(X,y):\n",
    "  print(\"Train:\", train_index, \"Test:\", test_index)\n",
    "  original_Xtrain, original_Xtest = X.iloc[train_index], X.iloc[test_index]\n",
    "  original_ytrain, original_ytest = y.iloc[train_index],y.iloc[test_index]\n",
    "\n",
    "#converting it into an array\n",
    "original_Xtrain = original_Xtrain.values\n",
    "original_Xtest = original_Xtest.values\n",
    "original_ytrain = original_ytrain.values\n",
    "original_ytest = original_ytest.values\n",
    "\n",
    "#check if both train and test distributions are similarly distributed\n",
    "train_unique_label, train_counts_label = np.unique(original_ytrain, return_counts=True)\n",
    "test_unique_label, test_counts_label = np.unique(original_ytest,return_counts=True)\n",
    "\n",
    "print(\"Label dstributions: \\n\")\n",
    "print(train_counts_label/len(original_ytrain))\n",
    "print(test_counts_label/len(original_ytest))"
   ]
  },
  {
   "cell_type": "markdown",
   "metadata": {
    "id": "9Q5Glr2PBP5q"
   },
   "source": [
    "UNDERSAMPLING TO MAKE THE DATASET BALANCED"
   ]
  },
  {
   "cell_type": "markdown",
   "metadata": {
    "id": "Rt7WTYywQOYS"
   },
   "source": [
    "since our classes are highly skewed, we have to make them equivalent in occurence to have a normal distribution of the classes, shuffle the data before creating the sub-samples."
   ]
  },
  {
   "cell_type": "code",
   "execution_count": null,
   "metadata": {
    "colab": {
     "base_uri": "https://localhost:8080/",
     "height": 224
    },
    "executionInfo": {
     "elapsed": 445,
     "status": "ok",
     "timestamp": 1628996318371,
     "user": {
      "displayName": "Dhvani Shah",
      "photoUrl": "https://lh3.googleusercontent.com/a-/AOh14GjWWRO4p6VF30NsVnqYt5SZkHtePts5b_H5X9PDsQ=s64",
      "userId": "07124916273541389313"
     },
     "user_tz": -330
    },
    "id": "z9iVFmm4BUif",
    "outputId": "07f08067-95c5-415c-b233-6df4145fbbd8"
   },
   "outputs": [],
   "source": [
    "\n",
    "\n",
    "df = df.sample(frac=1)\n",
    "\n",
    "fraud_df = df.loc[df['Class']==1]\n",
    "non_fraud_df = df.loc[df['Class']==0][:492]\n",
    "\n",
    "normal_distributed_df = pd.concat([fraud_df, non_fraud_df])\n",
    "\n",
    "new_df = normal_distributed_df.sample(frac=1,random_state=42)\n",
    "\n",
    "new_df.head()"
   ]
  },
  {
   "cell_type": "code",
   "execution_count": null,
   "metadata": {
    "colab": {
     "base_uri": "https://localhost:8080/",
     "height": 367
    },
    "executionInfo": {
     "elapsed": 450,
     "status": "ok",
     "timestamp": 1628996325828,
     "user": {
      "displayName": "Dhvani Shah",
      "photoUrl": "https://lh3.googleusercontent.com/a-/AOh14GjWWRO4p6VF30NsVnqYt5SZkHtePts5b_H5X9PDsQ=s64",
      "userId": "07124916273541389313"
     },
     "user_tz": -330
    },
    "id": "M1DJz8FKCJTL",
    "outputId": "bd5d4e01-d826-49a5-a91b-c1461fb5b1e3"
   },
   "outputs": [],
   "source": [
    "print('Distribution of the Classes in the subsample dataset')\n",
    "print(new_df['Class'].value_counts()/len(new_df))\n",
    "\n",
    "sns.countplot('Class', data=new_df)\n",
    "plt.title('Equally Distributed Classes', fontsize=14)\n",
    "plt.show()"
   ]
  },
  {
   "cell_type": "markdown",
   "metadata": {
    "id": "jWFyA-k7QtlB"
   },
   "source": [
    "# CORRELATION HEAT MAP\n",
    "*Correlation* is a term used to represent the statistical measure of linear relationship between two variables. It can also be defined as the measure of dependence between two different variables. If there are multiple variables and the goal is to find correlation between all of these variables and store them using appropriate data structure, the matrix data structure is used. Such matrix is called as correlation matrix. \n",
    "\n",
    "\n",
    "Dependence between two variables, also termed as correlation, can be measured using the following:\n",
    "\n",
    "* **Correlation coefficient / Pearson correlation coefficient** which measures how the value of two different variables vary with respect to each other. The formula given below represents Pearson correlation coefficient. \n",
    "* Rank correlation coefficient metric such as **Spearman correlation** coefficient is used to measure the extent to which one variable increases / decreases as the other variable increases / decreases. \n",
    "Pearson correlation coefficient between two variables X and Y can be calculated using the following formula. X bar is mean value of X and Y bar is mean value of Y. 𝑋𝑖 and 𝑌𝑖 represents different values of X and Y.\n",
    "\n",
    "[read more about correlation](https://vitalflux.com/correlation-heatmap-with-seaborn-pandas/)\n"
   ]
  },
  {
   "cell_type": "markdown",
   "metadata": {
    "id": "U7ETy8wsbn1h"
   },
   "source": [
    "We look at the correlation matrix in original distribution and later used balanced data it shows no much correlation between features or classes for orginal distribution but on balanced set we can visualize correlation more easily, so we find out features highly correlated(positively/negatively) and do outlier detection and removal from them for our data preperation.\n",
    "\n",
    "\n",
    "Syntax to calculate and see features below or above certain threshold\n",
    "```\n",
    "corr = new_df.corr()\n",
    "corr[['Class']]\n",
    "corr[corr.Class<-0.6]['Class']\n",
    "```\n"
   ]
  },
  {
   "cell_type": "code",
   "execution_count": null,
   "metadata": {
    "colab": {
     "base_uri": "https://localhost:8080/",
     "height": 1000
    },
    "executionInfo": {
     "elapsed": 3096,
     "status": "ok",
     "timestamp": 1628996333338,
     "user": {
      "displayName": "Dhvani Shah",
      "photoUrl": "https://lh3.googleusercontent.com/a-/AOh14GjWWRO4p6VF30NsVnqYt5SZkHtePts5b_H5X9PDsQ=s64",
      "userId": "07124916273541389313"
     },
     "user_tz": -330
    },
    "id": "ft1Lvni7CVyr",
    "outputId": "1eb4b122-427d-4789-ce8a-5f18de0bcadc"
   },
   "outputs": [],
   "source": [
    "f, (ax1, ax2) = plt.subplots(2, 1, figsize=(24,20))\n",
    "\n",
    "# comparing correlation between dataset\n",
    "# Entire DataFrame\n",
    "corr = df.corr()\n",
    "sns.heatmap(corr, cmap='coolwarm_r', annot_kws={'size':20}, ax=ax1)\n",
    "ax1.set_title(\"Imbalanced Correlation Matrix \\n (don't use for reference)\", fontsize=14)\n",
    "\n",
    "# new_df\n",
    "sub_sample_corr = new_df.corr()\n",
    "sns.heatmap(sub_sample_corr, cmap='coolwarm_r', annot_kws={'size':20}, ax=ax2)\n",
    "ax2.set_title('SubSample Correlation Matrix \\n (use for reference)', fontsize=14)"
   ]
  },
  {
   "cell_type": "markdown",
   "metadata": {
    "id": "lZUjDJAdCggt"
   },
   "source": [
    "DETECTING OUTLIERS"
   ]
  },
  {
   "cell_type": "code",
   "execution_count": null,
   "metadata": {
    "colab": {
     "base_uri": "https://localhost:8080/"
    },
    "executionInfo": {
     "elapsed": 445,
     "status": "ok",
     "timestamp": 1628996341637,
     "user": {
      "displayName": "Dhvani Shah",
      "photoUrl": "https://lh3.googleusercontent.com/a-/AOh14GjWWRO4p6VF30NsVnqYt5SZkHtePts5b_H5X9PDsQ=s64",
      "userId": "07124916273541389313"
     },
     "user_tz": -330
    },
    "id": "BJ0hC3OYCizH",
    "outputId": "071f7f1a-3731-4b58-9452-d863f7fb60ff"
   },
   "outputs": [],
   "source": [
    "corr = new_df.corr()\n",
    "corr[['Class']]\n",
    "corr[corr.Class<-0.6]['Class']"
   ]
  },
  {
   "cell_type": "code",
   "execution_count": null,
   "metadata": {
    "colab": {
     "base_uri": "https://localhost:8080/"
    },
    "executionInfo": {
     "elapsed": 10,
     "status": "ok",
     "timestamp": 1628996343879,
     "user": {
      "displayName": "Dhvani Shah",
      "photoUrl": "https://lh3.googleusercontent.com/a-/AOh14GjWWRO4p6VF30NsVnqYt5SZkHtePts5b_H5X9PDsQ=s64",
      "userId": "07124916273541389313"
     },
     "user_tz": -330
    },
    "id": "AX0vizdevInw",
    "outputId": "10fd5652-0236-4433-f670-bfb26171b037"
   },
   "outputs": [],
   "source": [
    "corr = new_df.corr()\n",
    "corr[['Class']]\n",
    "corr[corr.Class>0.5]['Class']"
   ]
  },
  {
   "cell_type": "markdown",
   "metadata": {
    "id": "mGp67QSYe62k"
   },
   "source": [
    "V4, V11 are our highly positively correlated featres and V10, V12, V14 have high negative correlation with **class**, now we do outlier analysis and removal.\n",
    "\n",
    "-Negative correlations with our class (the lower the feature value, higher the chances of it being a fraud transaction)\n",
    "\n",
    "we use seaborn boxplot for our visualization, go ahead and do this yourself in cell below.\n",
    "\n",
    "```\n",
    "f, axes = plt.subplots(ncols=4,figsize=(20,4))\n",
    "\n",
    "sns.boxplot(x='Class',y='V16',data=new_df,ax=axes[0])\n",
    "axes[0].set_title('V16 vs Class Negative Correlation')\n",
    "```\n",
    "read more about [boxplots](https://https://seaborn.pydata.org/generated/seaborn.boxplot.html)\n"
   ]
  },
  {
   "cell_type": "code",
   "execution_count": 6,
   "metadata": {
    "colab": {
     "base_uri": "https://localhost:8080/",
     "height": 312
    },
    "executionInfo": {
     "elapsed": 821,
     "status": "ok",
     "timestamp": 1628996347588,
     "user": {
      "displayName": "Dhvani Shah",
      "photoUrl": "https://lh3.googleusercontent.com/a-/AOh14GjWWRO4p6VF30NsVnqYt5SZkHtePts5b_H5X9PDsQ=s64",
      "userId": "07124916273541389313"
     },
     "user_tz": -330
    },
    "id": "5iKq0NrSvRrM",
    "outputId": "1caf2604-490e-493c-fa95-36be758a54f4"
   },
   "outputs": [
    {
     "ename": "NameError",
     "evalue": "name 'new_df' is not defined",
     "output_type": "error",
     "traceback": [
      "\u001b[1;31m---------------------------------------------------------------------------\u001b[0m",
      "\u001b[1;31mNameError\u001b[0m                                 Traceback (most recent call last)",
      "\u001b[1;32m<ipython-input-6-08a157d563a4>\u001b[0m in \u001b[0;36m<module>\u001b[1;34m\u001b[0m\n\u001b[0;32m      2\u001b[0m \u001b[0mf\u001b[0m\u001b[1;33m,\u001b[0m \u001b[0maxes\u001b[0m \u001b[1;33m=\u001b[0m \u001b[0mplt\u001b[0m\u001b[1;33m.\u001b[0m\u001b[0msubplots\u001b[0m\u001b[1;33m(\u001b[0m\u001b[0mncols\u001b[0m\u001b[1;33m=\u001b[0m\u001b[1;36m4\u001b[0m\u001b[1;33m,\u001b[0m\u001b[0mfigsize\u001b[0m\u001b[1;33m=\u001b[0m\u001b[1;33m(\u001b[0m\u001b[1;36m20\u001b[0m\u001b[1;33m,\u001b[0m\u001b[1;36m4\u001b[0m\u001b[1;33m)\u001b[0m\u001b[1;33m)\u001b[0m\u001b[1;33m\u001b[0m\u001b[1;33m\u001b[0m\u001b[0m\n\u001b[0;32m      3\u001b[0m \u001b[1;33m\u001b[0m\u001b[0m\n\u001b[1;32m----> 4\u001b[1;33m \u001b[0msns\u001b[0m\u001b[1;33m.\u001b[0m\u001b[0mboxplot\u001b[0m\u001b[1;33m(\u001b[0m\u001b[0mx\u001b[0m\u001b[1;33m=\u001b[0m\u001b[1;34m''\u001b[0m\u001b[1;33m,\u001b[0m\u001b[0my\u001b[0m\u001b[1;33m=\u001b[0m\u001b[1;34m''\u001b[0m\u001b[1;33m,\u001b[0m\u001b[0mdata\u001b[0m\u001b[1;33m=\u001b[0m\u001b[0mnew_df\u001b[0m\u001b[1;33m,\u001b[0m\u001b[0max\u001b[0m\u001b[1;33m=\u001b[0m\u001b[0maxes\u001b[0m\u001b[1;33m[\u001b[0m\u001b[1;36m0\u001b[0m\u001b[1;33m]\u001b[0m\u001b[1;33m)\u001b[0m\u001b[1;33m\u001b[0m\u001b[1;33m\u001b[0m\u001b[0m\n\u001b[0m\u001b[0;32m      5\u001b[0m \u001b[0maxes\u001b[0m\u001b[1;33m[\u001b[0m\u001b[1;36m0\u001b[0m\u001b[1;33m]\u001b[0m\u001b[1;33m.\u001b[0m\u001b[0mset_title\u001b[0m\u001b[1;33m(\u001b[0m\u001b[1;34m'V16 vs Class Negative Correlation'\u001b[0m\u001b[1;33m)\u001b[0m\u001b[1;33m\u001b[0m\u001b[1;33m\u001b[0m\u001b[0m\n\u001b[0;32m      6\u001b[0m \u001b[1;33m\u001b[0m\u001b[0m\n",
      "\u001b[1;31mNameError\u001b[0m: name 'new_df' is not defined"
     ]
    },
    {
     "data": {
      "image/png": "[encoded data removed]",
      "text/plain": [
       "<Figure size 1440x288 with 4 Axes>"
      ]
     },
     "metadata": {
      "needs_background": "light"
     },
     "output_type": "display_data"
    }
   ],
   "source": [
    "#Complete Line 4-14\n",
    "f, axes = plt.subplots(ncols=4,figsize=(20,4))\n",
    "\n",
    "sns.boxplot(x='',y='',data=new_df,ax=axes[0])\n",
    "axes[0].set_title('V16 vs Class Negative Correlation')\n",
    "\n",
    "sns.boxplot(x='',y='',data=new_df,ax=axes[1])\n",
    "axes[1].set_title('V14 vs Class Negative Correlation')\n",
    "\n",
    "sns.boxplot(x='',y='',data=new_df,ax=axes[2])\n",
    "axes[2].set_title('V12 vs Class Negative Correlation')\n",
    "\n",
    "sns.boxplot(x='',y='',data=new_df,ax=axes[3])\n",
    "axes[3].set_title('V10 vs Class Negative Correlation')"
   ]
  },
  {
   "cell_type": "code",
   "execution_count": null,
   "metadata": {
    "colab": {
     "base_uri": "https://localhost:8080/",
     "height": 312
    },
    "executionInfo": {
     "elapsed": 490,
     "status": "ok",
     "timestamp": 1628996353929,
     "user": {
      "displayName": "Dhvani Shah",
      "photoUrl": "https://lh3.googleusercontent.com/a-/AOh14GjWWRO4p6VF30NsVnqYt5SZkHtePts5b_H5X9PDsQ=s64",
      "userId": "07124916273541389313"
     },
     "user_tz": -330
    },
    "id": "qIgd5JcOwYSu",
    "outputId": "abfa9775-323c-46aa-e0d4-2e9da04964f0"
   },
   "outputs": [],
   "source": [
    "f, axes = plt.subplots(ncols=2,figsize=(20,4))\n",
    "\n",
    "#Positive correlations (the higher the feature the probability of a fraud transaction increases)\n",
    "sns.boxplot(x='Class',y='V11',data=new_df, ax = axes[0])\n",
    "axes[0].set_title('V11 vs Class Positive Correlation')\n",
    "\n",
    "sns.boxplot(x='Class',y='V4',data=new_df, ax = axes[1])\n",
    "axes[1].set_title('V4 vs Class Positive Correlation')"
   ]
  },
  {
   "cell_type": "code",
   "execution_count": null,
   "metadata": {
    "colab": {
     "base_uri": "https://localhost:8080/",
     "height": 424
    },
    "executionInfo": {
     "elapsed": 1742,
     "status": "ok",
     "timestamp": 1628996360887,
     "user": {
      "displayName": "Dhvani Shah",
      "photoUrl": "https://lh3.googleusercontent.com/a-/AOh14GjWWRO4p6VF30NsVnqYt5SZkHtePts5b_H5X9PDsQ=s64",
      "userId": "07124916273541389313"
     },
     "user_tz": -330
    },
    "id": "R46RM6-jxBxZ",
    "outputId": "92227ade-fdbc-46cb-c6b3-7ad262991ca0"
   },
   "outputs": [],
   "source": [
    "from scipy.stats import norm\n",
    "\n",
    "f, (ax1,ax2,ax3) = plt.subplots(1,3, figsize=(20,6))\n",
    "\n",
    "v14_fraud_dist = new_df['V14'].loc[new_df['Class']==1].values\n",
    "sns.distplot(v14_fraud_dist, ax=ax1,fit=norm, color='red')\n",
    "ax1.set_title('V14 Distribution \\n (Fraud Transactions)',fontsize=14)\n",
    "\n",
    "v12_fraud_dist = new_df['V12'].loc[new_df['Class']==1].values\n",
    "sns.distplot(v12_fraud_dist, ax=ax2,fit=norm, color='blue')\n",
    "ax2.set_title('V12 Distribution \\n (Fraud Transactions)',fontsize=14)\n",
    "\n",
    "v10_fraud_dist = new_df['V10'].loc[new_df['Class']==1].values\n",
    "sns.distplot(v10_fraud_dist, ax=ax3,fit=norm, color='green')\n",
    "ax2.set_title('V10 Distribution \\n (Fraud Transactions)',fontsize=14)"
   ]
  },
  {
   "cell_type": "markdown",
   "metadata": {
    "id": "CaVIj31NyaAL"
   },
   "source": [
    "# REMOVING OUTLIERS\n",
    "We will use interquatile range to remove outliers from highly correlated features\n",
    "\n",
    "IQR is used to measure variability by dividing a data set into quartiles. The data is sorted in ascending order and split into 4 equal parts. Q1, Q2, Q3 called first, second and third quartiles are the values which separate the 4 equal parts.\n",
    "\n",
    "* Q1 represents the 25th percentile of the data.\n",
    "* Q2 represents the 50th percentile of the data.\n",
    "* Q3 represents the 75th percentile of the data.\n",
    "\n",
    "IQR is the range between the first and the third quartiles namely Q1 and Q3: IQR = Q3 – Q1. The data points which fall below Q1 – 1.5 IQR or above Q3 + 1.5 IQR are outliers."
   ]
  },
  {
   "cell_type": "markdown",
   "metadata": {
    "id": "WTefEZAayuoj"
   },
   "source": [
    "![Interquartile_wiki.png](data:image/png;base64,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)"
   ]
  },
  {
   "cell_type": "markdown",
   "metadata": {
    "id": "pKMdnqh74RqF"
   },
   "source": [
    "To read about other outlier detection and removal techniques follw the [link](https://https://towardsdatascience.com/5-ways-to-detect-outliers-that-every-data-scientist-should-know-python-code-70a54335a623)"
   ]
  },
  {
   "cell_type": "markdown",
   "metadata": {
    "id": "ZZTZaqIGzTrT"
   },
   "source": [
    "Here is how we are going to find and remove outliers from data using interquartile range method \n",
    "\n",
    "Go through the example to complete the cell below and run for yourself \n",
    "\n",
    "```\n",
    "v14_fraud = new_df['V14'].loc[new_df['Class'] == 1].values\n",
    "q25, q75 = np.percentile(v14_fraud, 25), np.percentile(v14_fraud, 75)\n",
    "\n",
    "v14_iqr = q75 - q25\n",
    "\n",
    "v14_cut_off = v14_iqr * 1.5\n",
    "v14_lower, v14_upper = q25 - v14_cut_off, q75 + v14_cut_off\n",
    "\n",
    "outliers = [x for x in v14_fraud if x < v14_lower or x > v14_upper]\n",
    "new_df = new_df.drop(new_df[(new_df['V14'] > v14_upper) | (new_df['V14'] < v14_lower)].index)\n",
    "\n",
    "```\n",
    "\n"
   ]
  },
  {
   "cell_type": "code",
   "execution_count": null,
   "metadata": {
    "id": "8tgTeI0Xyb--"
   },
   "outputs": [],
   "source": [
    "#Complete Line 2-16\n",
    "v14_fraud = \n",
    "q25, q75 =\n",
    "print('Quartile 25: {} | Quartile 75: {}'.format(q25, q75))\n",
    "v14_iqr =\n",
    "print('iqr: {}'.format(v14_iqr))\n",
    "v14_cut_off =\n",
    "v14_lower, v14_upper =\n",
    "print('Cut Off: {}'.format(v14_cut_off))\n",
    "print('V14 Lower: {}'.format(v14_lower))\n",
    "print('V14 Upper: {}'.format(v14_upper))\n",
    "\n",
    "outliers =\n",
    "print('Feature V14 Outliers for Fraud Cases: {}'.format(len(outliers)))\n",
    "print('V14 outliers:{}'.format(outliers))\n",
    "new_df =\n",
    "print('----' * 44)\n",
    "\n",
    "###################################################################################################################\n",
    "\n",
    "v12_fraud = new_df['V12'].loc[new_df['Class'] == 1].values\n",
    "q25, q75 = np.percentile(v12_fraud, 25), np.percentile(v12_fraud, 75)\n",
    "v12_iqr = q75 - q25\n",
    "v12_cut_off = v12_iqr * 1.5\n",
    "v12_lower, v12_upper = q25 - v12_cut_off, q75 + v12_cut_off\n",
    "print('V12 Lower: {}'.format(v12_lower))\n",
    "print('V12 Upper: {}'.format(v12_upper))\n",
    "outliers = [x for x in v12_fraud if x < v12_lower or x > v12_upper]\n",
    "print('V12 outliers: {}'.format(outliers))\n",
    "print('Feature V12 Outliers for Fraud Cases: {}'.format(len(outliers)))\n",
    "new_df = new_df.drop(new_df[(new_df['V12'] > v12_upper) | (new_df['V12'] < v12_lower)].index)\n",
    "print('Number of Instances after outliers removal: {}'.format(len(new_df)))\n",
    "print('----' * 44)\n",
    "\n",
    "##################################################################################################################\n",
    "\n",
    "v10_fraud = new_df['V10'].loc[new_df['Class'] == 1].values\n",
    "q25, q75 = np.percentile(v10_fraud, 25), np.percentile(v10_fraud, 75)\n",
    "v10_iqr = q75 - q25\n",
    "v10_cut_off = v10_iqr * 1.5\n",
    "v10_lower, v10_upper = q25 - v10_cut_off, q75 + v10_cut_off\n",
    "print('V10 Lower: {}'.format(v10_lower))\n",
    "print('V10 Upper: {}'.format(v10_upper))\n",
    "outliers = [x for x in v10_fraud if x < v10_lower or x > v10_upper]\n",
    "print('V10 outliers: {}'.format(outliers))\n",
    "print('Feature V10 Outliers for Fraud Cases: {}'.format(len(outliers)))\n",
    "new_df = new_df.drop(new_df[(new_df['V10'] > v10_upper) | (new_df['V10'] < v10_lower)].index)\n",
    "print('Number of Instances after outliers removal: {}'.format(len(new_df)))"
   ]
  },
  {
   "cell_type": "code",
   "execution_count": null,
   "metadata": {
    "id": "I0yWXbqZzelB"
   },
   "outputs": [],
   "source": [
    "f, (ax1,ax2,ax3) = plt.subplots(1,3, figsize=(20,6))\n",
    "\n",
    "colors = ['red','green']\n",
    "\n",
    "#feature V14\n",
    "sns.boxplot(x='Class',y='V14',data=new_df,ax=ax1,palette=colors)\n",
    "ax1.set_title(\"V14 Feature \\n Reduction of outliers\", fontsize=14)\n",
    "ax1.annotate('Fewer extreme \\n outliers', xy=(0.98, -17.5), xytext=(0, -12),arrowprops=dict(facecolor='black'),fontsize=14)\n",
    "\n",
    "#feature v12\n",
    "sns.boxplot(x='Class',y='V12',data=new_df,ax=ax2,palette=colors)\n",
    "ax2.set_title(\"V12 Feature \\n Reduction of outliers\", fontsize=14)\n",
    "ax2.annotate('Fewer extreme \\n outliers', xy=(0.98, -17.3), xytext=(0, -12),arrowprops=dict(facecolor='black'),fontsize=14)\n",
    "\n",
    "#feature V10\n",
    "sns.boxplot(x='Class',y='V10',data=new_df,ax=ax3,palette=colors)\n",
    "ax3.set_title(\"V10 Feature \\n Reduction of outliers\", fontsize=14)\n",
    "ax3.annotate('Fewer extreme \\n outliers', xy=(0.95, -16.5), xytext=(0, -12),arrowprops=dict(facecolor='black'),fontsize=14)"
   ]
  },
  {
   "cell_type": "markdown",
   "metadata": {
    "id": "Cj8PyO3w1HXt"
   },
   "source": [
    "# DIMENSIONALITY REDUCTION VISUALIZATION\n",
    "\n",
    "We have a data that is high dimensional and visualising any patterns in higher than 3 is not possible so to see how our data would look like we are going to use dimensionality reduction techniques for visualisation of our data, we are going to use.\n",
    "* [TSNE](https://scikit-learn.org/stable/modules/manifold.html#t-distributed-stochastic-neighbor-embedding-t-sne)\n",
    "* [Principal Component Analysis(PCA)](https://scikit-learn.org/stable/modules/generated/sklearn.decomposition.PCA.html)\n",
    "* [TruncatedSVD](https://scikit-learn.org/stable/modules/generated/sklearn.decomposition.TruncatedSVD.html)\n",
    "\n",
    "To read more about the techniques and the concept behind dimensionality reduction follow the links:\n",
    "* [PCA vs t-SNE](https://towardsdatascience.com/pca-vs-tsne-el-cl%C3%A1sico-9948181a5f87)\n",
    "* [Dimensionality Reduction for Data Visualization: PCA vs TSNE vs UMAP vs LDA](https://towardsdatascience.com/dimensionality-reduction-for-data-visualization-pca-vs-tsne-vs-umap-be4aa7b1cb29)\n",
    "\n",
    "To havee a brief account of comparision of the three follow this [link](https://datascience.stackexchange.com/questions/66198/comparison-of-t-sne-and-pca-and-truncate-svd)"
   ]
  },
  {
   "cell_type": "markdown",
   "metadata": {
    "id": "etOBr8-5BH3d"
   },
   "source": [
    "Look at the given example and follow links given to complete the cell below \n",
    "\n",
    "```\n",
    "X_reduced_tsne = TSNE(n_components=2, random_state=42).fit_transform(X.values)\n",
    "\n",
    "n_components(int): Dimension of the embedded spac, default=2.\n",
    "```\n",
    "\n",
    "**Note explanation of argument *n_components* is different for all the three so go through documentaion before attempting this section.**"
   ]
  },
  {
   "cell_type": "code",
   "execution_count": null,
   "metadata": {
    "colab": {
     "base_uri": "https://localhost:8080/"
    },
    "executionInfo": {
     "elapsed": 7028,
     "status": "ok",
     "timestamp": 1628996831887,
     "user": {
      "displayName": "Dhvani Shah",
      "photoUrl": "https://lh3.googleusercontent.com/a-/AOh14GjWWRO4p6VF30NsVnqYt5SZkHtePts5b_H5X9PDsQ=s64",
      "userId": "07124916273541389313"
     },
     "user_tz": -330
    },
    "id": "5toAMvQj1LpS",
    "outputId": "6c618495-4e6e-4069-b59e-b98f8a9cbbfe"
   },
   "outputs": [],
   "source": [
    "from sklearn.manifold import TSNE\n",
    "from sklearn.decomposition import PCA, TruncatedSVD\n",
    "import matplotlib.patches as mpatches\n",
    "import time\n",
    "\n",
    "X = new_df.drop('Class',axis=1)\n",
    "y = new_df['Class']\n",
    "\n",
    "#TSNE implementation\n",
    "t0 = time.time()\n",
    "X_reduced_tsne =                       #### Complete this line ####\n",
    "t1 = time.time()\n",
    "print(\"T-SNE took {:.2} s\".format(t1-t0))\n",
    "\n",
    "#PCA implementation\n",
    "t0 = time.time()\n",
    "X_reduced_pca =                        #### Complete this line ####\n",
    "t1 = time.time()\n",
    "print(\"PCA took {:.2} s\".format(t1-t0))\n",
    "\n",
    "#TruncatedSVD implementation\n",
    "t0 = time.time()\n",
    "X_reduced_svd =                        #### Complete this line ####\n",
    "t1 = time.time()\n",
    "print(\"Truncated SVD took {:.2} s\".format(t1-t0))"
   ]
  },
  {
   "cell_type": "markdown",
   "metadata": {
    "id": "PYV6KXjhDDRr"
   },
   "source": [
    "As we plot are reduced dimension fetures we can see there is a decison boundary for model to learn visible in the 2-D projections."
   ]
  },
  {
   "cell_type": "code",
   "execution_count": null,
   "metadata": {
    "colab": {
     "base_uri": "https://localhost:8080/",
     "height": 217
    },
    "executionInfo": {
     "elapsed": 1760,
     "status": "ok",
     "timestamp": 1628997013122,
     "user": {
      "displayName": "Dhvani Shah",
      "photoUrl": "https://lh3.googleusercontent.com/a-/AOh14GjWWRO4p6VF30NsVnqYt5SZkHtePts5b_H5X9PDsQ=s64",
      "userId": "07124916273541389313"
     },
     "user_tz": -330
    },
    "id": "ZdsD23JjxyDQ",
    "outputId": "5ab3123c-7cb8-4919-8423-ab18e9c7e020"
   },
   "outputs": [],
   "source": [
    "f, (ax1,ax2,ax3) = plt.subplots(1,3,figsize=(24,6))\n",
    "f.suptitle('Clusters after dimensionality reducation',fontsize=14)\n",
    "\n",
    "blue_patch = mpatches.Patch(color='blue',label = 'No fraud')\n",
    "red_patch = mpatches.Patch(color='red',label='Fraud')\n",
    "\n",
    "# t-SNE scatter plot\n",
    "ax1.scatter(X_reduced_tsne[:,0], X_reduced_tsne[:,1], c=(y == 0), cmap='coolwarm', label='No Fraud', linewidths=2)\n",
    "ax1.scatter(X_reduced_tsne[:,0], X_reduced_tsne[:,1], c=(y == 1), cmap='coolwarm', label='Fraud', linewidths=2)\n",
    "ax1.set_title('t-SNE', fontsize=14)\n",
    "ax1.grid(True)\n",
    "ax1.legend(handles=[blue_patch, red_patch])\n",
    "\n",
    "\n",
    "# PCA scatter plot\n",
    "ax2.scatter(X_reduced_pca[:,0], X_reduced_pca[:,1], c=(y == 0), cmap='coolwarm', label='No Fraud', linewidths=2)\n",
    "ax2.scatter(X_reduced_pca[:,0], X_reduced_pca[:,1], c=(y == 1), cmap='coolwarm', label='Fraud', linewidths=2)\n",
    "ax2.set_title('PCA', fontsize=14)\n",
    "ax2.grid(True)\n",
    "ax2.legend(handles=[blue_patch, red_patch])\n",
    "\n",
    "# TruncatedSVD scatter plot\n",
    "ax3.scatter(X_reduced_svd[:,0], X_reduced_svd[:,1], c=(y == 0), cmap='coolwarm', label='No Fraud', linewidths=2)\n",
    "ax3.scatter(X_reduced_svd[:,0], X_reduced_svd[:,1], c=(y == 1), cmap='coolwarm', label='Fraud', linewidths=2)\n",
    "ax3.set_title('Truncated SVD', fontsize=14)\n",
    "ax3.grid(True)\n",
    "ax3.legend(handles=[blue_patch, red_patch])"
   ]
  },
  {
   "cell_type": "markdown",
   "metadata": {
    "id": "U7dTS_oryg3P"
   },
   "source": [
    "#IMPLEMENTING MODELS"
   ]
  },
  {
   "cell_type": "code",
   "execution_count": null,
   "metadata": {
    "id": "QB0M7mMzykHt"
   },
   "outputs": [],
   "source": [
    "X = new_df.drop('Class', axis=1)\n",
    "y = new_df['Class']\n",
    "\n",
    "# SPLITTING IN TRAIN AND TEST\n",
    "from sklearn.model_selection import train_test_split\n",
    "X_train, X_test, y_train, y_test = train_test_split(X, y, test_size=0.2, random_state=42)"
   ]
  },
  {
   "cell_type": "code",
   "execution_count": null,
   "metadata": {
    "id": "dLixg8zQyqOr"
   },
   "outputs": [],
   "source": [
    "#converting to array\n",
    "X_train = X_train.values\n",
    "X_test = X_test.values\n",
    "y_train = y_train.values\n",
    "y_test = y_test.values"
   ]
  },
  {
   "cell_type": "code",
   "execution_count": null,
   "metadata": {
    "colab": {
     "base_uri": "https://localhost:8080/"
    },
    "executionInfo": {
     "elapsed": 444,
     "status": "ok",
     "timestamp": 1628997106644,
     "user": {
      "displayName": "Dhvani Shah",
      "photoUrl": "https://lh3.googleusercontent.com/a-/AOh14GjWWRO4p6VF30NsVnqYt5SZkHtePts5b_H5X9PDsQ=s64",
      "userId": "07124916273541389313"
     },
     "user_tz": -330
    },
    "id": "HZZQP1-Zyw-n",
    "outputId": "fe050af2-b79d-4963-b952-41ad182ad9f5"
   },
   "outputs": [],
   "source": [
    "print('X_shapes:\\n', 'X_train:', 'X_test:\\n', X_train.shape, X_test.shape, '\\n')\n",
    "print('Y_shapes:\\n', 'Y_train:', 'Y_test:\\n', y_train.shape, y_test.shape)\n",
    "X.columns"
   ]
  },
  {
   "cell_type": "markdown",
   "metadata": {
    "id": "-9AAIu1nD9fB"
   },
   "source": [
    "As we have a classification problem on our hands we'll apply classification models and calculate the cross validation score to identify the best fit for our data.\n",
    "\n",
    "Some of the models that we are going to use are.\n",
    "* LogisticRegression\n",
    "* KNeighborsClassifier\n",
    "* Support Vector Classifier\n",
    "* DecisionTreeClassifier\n"
   ]
  },
  {
   "cell_type": "code",
   "execution_count": null,
   "metadata": {
    "id": "Vq-JYGTsy41x"
   },
   "outputs": [],
   "source": [
    "from sklearn.linear_model import LogisticRegression\n",
    "from sklearn.svm import SVC\n",
    "from sklearn.neighbors import KNeighborsClassifier\n",
    "from sklearn.tree import DecisionTreeClassifier\n",
    "from sklearn.ensemble import RandomForestClassifier"
   ]
  },
  {
   "cell_type": "code",
   "execution_count": null,
   "metadata": {
    "id": "0g5TK-may8e3"
   },
   "outputs": [],
   "source": [
    "Models = {\n",
    "    \"LogisiticRegression\": LogisticRegression(),\n",
    "    \"KNearest\": KNeighborsClassifier(),\n",
    "    \"Support Vector Classifier\": SVC(),\n",
    "    \"DecisionTreeClassifier\": DecisionTreeClassifier()\n",
    "}"
   ]
  },
  {
   "cell_type": "markdown",
   "metadata": {
    "id": "SeSKOcHAM5cc"
   },
   "source": [
    "We are going to use sklearn *cross_val_score* to compare model performances, for this we'll see which model has best mean average accuracy over given number of *folds*.\n",
    "\n",
    "For this to make sense we'll have to look how *cross_val_score* works, go through the [link](https://scikit-learn.org/stable/modules/cross_validation.html#cross-validation) to understand the syntax and working behind cross validation technique.\n",
    "\n",
    "Check out the following example of sklearn *cross_val_score*\n",
    "\n",
    "```\n",
    ">>> import numpy as np\n",
    ">>> from sklearn.model_selection import train_test_split\n",
    ">>> from sklearn import datasets\n",
    ">>> from sklearn import svm\n",
    ">>> from sklearn.model_selection import cross_val_score\n",
    "\n",
    ">>> X, y = datasets.load_iris(return_X_y=True)\n",
    ">>> X.shape, y.shape\n",
    "((150, 4), (150,))\n",
    ">>> clf = svm.SVC(kernel='linear', C=1, random_state=42)\n",
    ">>> scores = cross_val_score(clf, X, y, cv=5)\n",
    ">>> scores\n",
    "array([0.96..., 1. , 0.96..., 0.96..., 1. ])\n",
    "```\n",
    "\n"
   ]
  },
  {
   "cell_type": "code",
   "execution_count": null,
   "metadata": {
    "colab": {
     "base_uri": "https://localhost:8080/"
    },
    "executionInfo": {
     "elapsed": 1046,
     "status": "ok",
     "timestamp": 1628997193554,
     "user": {
      "displayName": "Dhvani Shah",
      "photoUrl": "https://lh3.googleusercontent.com/a-/AOh14GjWWRO4p6VF30NsVnqYt5SZkHtePts5b_H5X9PDsQ=s64",
      "userId": "07124916273541389313"
     },
     "user_tz": -330
    },
    "id": "6WFpvQIhy_nw",
    "outputId": "f9050c97-ce1d-494c-9025-a53dc44e8f1f"
   },
   "outputs": [],
   "source": [
    "from sklearn.model_selection import cross_val_score\n",
    "\n",
    "\n",
    "for key, classifier in Models.items():\n",
    "    classifier.fit(X_train, y_train)\n",
    "    training_score = cross_val_score(classifier, , , cv=5)   ## Complete this line of code \n",
    "    \n",
    "    print(\"Classifier: \", classifier.__class__.__name__, \"has a training score of\", round(training_score.mean(), 2) * 100, \"% accuracy score\")"
   ]
  },
  {
   "cell_type": "markdown",
   "metadata": {
    "id": "wOy9YvWuSn48"
   },
   "source": [
    "* Logistic regression appears to be working best for us."
   ]
  },
  {
   "cell_type": "markdown",
   "metadata": {
    "id": "UJhYErhXS2up"
   },
   "source": [
    "Hyperparameter search using *GridSearch*\n",
    "\n",
    "Now we try to look for the best set of paramters for models using gridsearch.\n",
    "\n",
    "* follow the given syntax to execute the cell below for hyper-paramerter search.\n",
    "\n",
    "```\n",
    "params_dic = {hyper_param_1 : ['l1', 'l2'], hyper_param_2 : [0.001, 0.01, 0.1, 1, 10, 100, 1000]}\n",
    "\n",
    "clf = GridSearchCV(LogisticRegression(), params_dic)\n",
    "clf.fit(X, y)\n",
    "log_reg = clf.best_estimator_\n",
    "```\n",
    "* Note : check gridsearch [documentation](https://scikit-learn.org/stable/modules/generated/sklearn.model_selection.GridSearchCV.html) and [user_guide](https://scikit-learn.org/stable/modules/grid_search.html#grid-search) to get familier with model arguments and working.\n"
   ]
  },
  {
   "cell_type": "code",
   "execution_count": null,
   "metadata": {
    "id": "MgphTtQRzKpQ"
   },
   "outputs": [],
   "source": [
    "### Complete Line 15-18, 22-25, 29-33, 38-42\n",
    "\n",
    "e-4# Use GridSearchCV to find the best parameters.\n",
    "from sklearn.model_selection import GridSearchCV\n",
    "'''Steps:\n",
    "    1. creating dict of parameters we are going to check\n",
    "    2. applying grid search cv on our model and get model with best parameters\n",
    "    3. Fit this new Model with X_train,y_train\n",
    "    \n",
    "'''\n",
    "\n",
    "# Logistic Regression \n",
    "log_reg_params = {\"penalty\": ['l1', 'l2'], 'C': [0.001, 0.01, 0.1, 1, 10, 100, 1000]}\n",
    "\n",
    "grid_log_reg =                                            \n",
    "grid_log_reg.fit()\n",
    "# We automatically get the logistic regression with the best parameters.\n",
    "log_reg = \n",
    "\n",
    "knears_params = {\"n_neighbors\": list(range(2,5,1)), 'algorithm': ['auto', 'ball_tree', 'kd_tree', 'brute']}\n",
    "\n",
    "grid_knears = \n",
    "grid_knears.fit()\n",
    "# KNears best estimator\n",
    "knears_neighbors = \n",
    "\n",
    "# Support Vector Classifier\n",
    "svc_params = {'C': [0.5, 0.7, 0.9, 1], 'kernel': ['rbf', 'poly', 'sigmoid', 'linear']}\n",
    "grid_svc = \n",
    "grid_svc.fit()\n",
    "\n",
    "# SVC best estimator\n",
    "svc = \n",
    "\n",
    "# DecisionTree Classifier\n",
    "tree_params = {\"criterion\": [\"gini\", \"entropy\"], \"max_depth\": list(range(2,4,1)), \n",
    "              \"min_samples_leaf\": list(range(5,7,1))}\n",
    "grid_tree = \n",
    "grid_tree.fit()\n",
    "\n",
    "# tree best estimator\n",
    "tree_clf = "
   ]
  },
  {
   "cell_type": "code",
   "execution_count": null,
   "metadata": {
    "colab": {
     "base_uri": "https://localhost:8080/"
    },
    "executionInfo": {
     "elapsed": 400,
     "status": "ok",
     "timestamp": 1628997236376,
     "user": {
      "displayName": "Dhvani Shah",
      "photoUrl": "https://lh3.googleusercontent.com/a-/AOh14GjWWRO4p6VF30NsVnqYt5SZkHtePts5b_H5X9PDsQ=s64",
      "userId": "07124916273541389313"
     },
     "user_tz": -330
    },
    "id": "Sl7663NDzQYS",
    "outputId": "90916619-4921-4226-f33f-9afced3d9a75"
   },
   "outputs": [],
   "source": [
    "print(log_reg,'\\n', knears_neighbors,'\\n' ,svc,'\\n', tree_clf)"
   ]
  },
  {
   "cell_type": "markdown",
   "metadata": {
    "id": "OT0Me6hkWP8s"
   },
   "source": [
    "#Validation"
   ]
  },
  {
   "cell_type": "markdown",
   "metadata": {
    "id": "kKp4VDLBQ-G9"
   },
   "source": [
    "Now we have our best set models trained using gridsearch now we move onto testing them on different metrices so as to know which one works best overall for us.\n",
    "\n",
    "```\n",
    "1. log_reg\n",
    "2. knears_negihbors\n",
    "3. svc\n",
    "4. tree_clf\n",
    "```\n",
    "\n",
    "we'll evaluate model using:\n",
    "* Cross_val_score\n",
    "* ROC AUC Score\n",
    "* ROC Curve\n",
    "* Confusion Matrix, Classification report\n",
    "* Average precison score, Area under precision recall curve"
   ]
  },
  {
   "cell_type": "markdown",
   "metadata": {
    "id": "lNUY28Gq10_1"
   },
   "source": [
    "Now we find cross_validation scores for the models we got using GridsearchCV, use *log_reg*, *knears_negihbors*, *svc* and *tree_clf* in the below cell.\n",
    "* Use the *cross_val_score* in the model training section to complete the code below."
   ]
  },
  {
   "cell_type": "code",
   "execution_count": null,
   "metadata": {
    "colab": {
     "base_uri": "https://localhost:8080/"
    },
    "executionInfo": {
     "elapsed": 438,
     "status": "ok",
     "timestamp": 1628997258002,
     "user": {
      "displayName": "Dhvani Shah",
      "photoUrl": "https://lh3.googleusercontent.com/a-/AOh14GjWWRO4p6VF30NsVnqYt5SZkHtePts5b_H5X9PDsQ=s64",
      "userId": "07124916273541389313"
     },
     "user_tz": -330
    },
    "id": "Lm1Lv_tLzVZr",
    "outputId": "111ea59c-7e06-480e-cb38-5fe3bb74c45b"
   },
   "outputs": [],
   "source": [
    "####### Complete Line No. 3, 7, 10, 13\n",
    "\n",
    "log_reg_score = cross_val_score( , cv=5)\n",
    "print('Logistic Regression Cross Validation Score: ', round(log_reg_score.mean() * 100, 2).astype(str) + '%')\n",
    "\n",
    "\n",
    "knears_score = cross_val_score( , cv=5)\n",
    "print('Knears Neighbors Cross Validation Score', round(knears_score.mean() * 100, 2).astype(str) + '%')\n",
    "\n",
    "svc_score = cross_val_score( , cv=5)\n",
    "print('Support Vector Classifier Cross Validation Score', round(svc_score.mean() * 100, 2).astype(str) + '%')\n",
    "\n",
    "tree_score = cross_val_score( , cv=5)\n",
    "print('DecisionTree Classifier Cross Validation Score', round(tree_score.mean() * 100, 2).astype(str) + '%')"
   ]
  },
  {
   "cell_type": "markdown",
   "metadata": {
    "id": "4jL1MWIFjAv_"
   },
   "source": [
    "**SVC** and **Logistic regression** have best cross validation score"
   ]
  },
  {
   "cell_type": "markdown",
   "metadata": {
    "id": "IHWVWBsh2i03"
   },
   "source": [
    "let us also calculate *roc_auc_score* and also we will plot *roc_curve*, steps are as follows\n",
    "\n",
    "* get model predictions\n",
    "```\n",
    "pred = clf.predict(X_test)\n",
    "```\n",
    "*calculate ROC AUC Score\n",
    "```\n",
    "score = roc_aur_score(y_test, y_pred)\n",
    "```\n",
    "*calculate *false positive rate*(fpr), *true positive rate*(tpr) threshold and plot ROC curve using these.\n",
    "```\n",
    "fpr, tpr, thresold = roc_curve(y_test, y_pred)\n",
    "plt.plot(fpr, tpr, label='Classifier Score: {:.4f}'.format(roc_auc_score(y_test, y_pred)))\n",
    "```"
   ]
  },
  {
   "cell_type": "code",
   "execution_count": null,
   "metadata": {
    "colab": {
     "base_uri": "https://localhost:8080/"
    },
    "executionInfo": {
     "elapsed": 399,
     "status": "ok",
     "timestamp": 1628997301803,
     "user": {
      "displayName": "Dhvani Shah",
      "photoUrl": "https://lh3.googleusercontent.com/a-/AOh14GjWWRO4p6VF30NsVnqYt5SZkHtePts5b_H5X9PDsQ=s64",
      "userId": "07124916273541389313"
     },
     "user_tz": -330
    },
    "id": "ZXaldD3zzgFY",
    "outputId": "f7afcf14-08eb-4bd8-e713-34151eb523e9"
   },
   "outputs": [],
   "source": [
    "### Complete Line No 7-13\n",
    "\n",
    "from sklearn.metrics import roc_curve\n",
    "from sklearn.model_selection import cross_val_predict\n",
    "from sklearn.metrics import roc_auc_score\n",
    "\n",
    "log_reg_pred = \n",
    "\n",
    "knears_pred = \n",
    "\n",
    "svc_pred = \n",
    "\n",
    "tree_pred = \n",
    "\n",
    "print('Logistic Regression: ', roc_auc_score(y_test, log_reg_pred))\n",
    "print('KNears Neighbors: ', roc_auc_score(y_test, knears_pred))\n",
    "print('Support Vector Classifier: ', roc_auc_score(y_test, svc_pred))\n",
    "print('Decision Tree Classifier: ', roc_auc_score(y_test, tree_pred))"
   ]
  },
  {
   "cell_type": "markdown",
   "metadata": {
    "id": "KVBN5fGd29Qi"
   },
   "source": [
    "Plotting"
   ]
  },
  {
   "cell_type": "code",
   "execution_count": null,
   "metadata": {
    "id": "Z0cjCgJOziH7"
   },
   "outputs": [],
   "source": [
    "### Complete Line No 2-5\n",
    "log_fpr, log_tpr, log_thresold = \n",
    "knear_fpr, knear_tpr, knear_threshold = \n",
    "svc_fpr, svc_tpr, svc_threshold = \n",
    "tree_fpr, tree_tpr, tree_threshold = "
   ]
  },
  {
   "cell_type": "code",
   "execution_count": null,
   "metadata": {
    "colab": {
     "base_uri": "https://localhost:8080/",
     "height": 381
    },
    "executionInfo": {
     "elapsed": 788,
     "status": "ok",
     "timestamp": 1628997355222,
     "user": {
      "displayName": "Dhvani Shah",
      "photoUrl": "https://lh3.googleusercontent.com/a-/AOh14GjWWRO4p6VF30NsVnqYt5SZkHtePts5b_H5X9PDsQ=s64",
      "userId": "07124916273541389313"
     },
     "user_tz": -330
    },
    "id": "vrCUjIW8zvS7",
    "outputId": "86387424-24ac-43f4-fbcc-493f291509d0"
   },
   "outputs": [],
   "source": [
    "plt.figure(figsize=(16,8))\n",
    "plt.title('ROC Curve \\n Top 4 Classifiers', fontsize=18)\n",
    "plt.plot(log_fpr, log_tpr, label='Logistic Regression Classifier Score: {:.4f}'.format(roc_auc_score(y_test, log_reg_pred)))\n",
    "plt.plot(knear_fpr, knear_tpr, label='KNears Neighbors Classifier Score: {:.4f}'.format(roc_auc_score(y_test, knears_pred)))\n",
    "plt.plot(svc_fpr, svc_tpr, label='Support Vector Classifier Score: {:.4f}'.format(roc_auc_score(y_test, svc_pred)))\n",
    "plt.plot(tree_fpr, tree_tpr, label='Decision Tree Classifier Score: {:.4f}'.format(roc_auc_score(y_test, tree_pred)))\n",
    "plt.plot([0, 1], [0, 1], 'k--')\n",
    "plt.axis([-0.01, 1, 0, 1])\n",
    "plt.xlabel('False Positive Rate', fontsize=16)\n",
    "plt.ylabel('True Positive Rate', fontsize=16)\n",
    "plt.annotate('Minimum ROC Score of 50% \\n (This is the minimum score to get)', xy=(0.5, 0.5), xytext=(0.6, 0.3),\n",
    "                arrowprops=dict(facecolor='#6E726D', shrink=0.05))\n",
    "plt.legend()"
   ]
  },
  {
   "cell_type": "markdown",
   "metadata": {
    "id": "Z9868PsDz1PK"
   },
   "source": [
    "SVC has better ROC AUC Score and we can see that from the Curve as well, it is the best model till now."
   ]
  },
  {
   "cell_type": "markdown",
   "metadata": {
    "id": "62Sf1BXF3UKd"
   },
   "source": [
    "We Now calculate confusion matrix and classification report to do some quantitative evaluation on validation set.\n",
    "\n",
    "* follow the syntax below to calculate confusion matrix in the next cell.\n",
    "```\n",
    "cf = confusion_matrix(y_test, y_pred)\n",
    "```\n",
    "* We'll be validating our models on the \"X_test\" dataset we spared in train test split, so this is what our data looks like,\n",
    "\\\n",
    "X_shapes: X_train, X_test:(756, 29) (190, 29) \n",
    "\\\n",
    "Y_shapes: Y_train, Y_test: (756,) (190,)\n",
    "\\\n",
    "y_test fraud and non-fraud data points respectively 86, 104."
   ]
  },
  {
   "cell_type": "code",
   "execution_count": null,
   "metadata": {
    "colab": {
     "base_uri": "https://localhost:8080/",
     "height": 402
    },
    "executionInfo": {
     "elapsed": 1905,
     "status": "ok",
     "timestamp": 1628997434654,
     "user": {
      "displayName": "Dhvani Shah",
      "photoUrl": "https://lh3.googleusercontent.com/a-/AOh14GjWWRO4p6VF30NsVnqYt5SZkHtePts5b_H5X9PDsQ=s64",
      "userId": "07124916273541389313"
     },
     "user_tz": -330
    },
    "id": "tpE_r-MTz9bE",
    "outputId": "446efa16-a1dd-451a-eb1a-05740d995748"
   },
   "outputs": [],
   "source": [
    "from sklearn.metrics import confusion_matrix\n",
    "y_pred_log_reg = log_reg.predict(X_test)\n",
    "y_pred_knear = knears_neighbors.predict(X_test)\n",
    "y_pred_svc = svc.predict(X_test)\n",
    "y_pred_tree = tree_clf.predict(X_test)\n",
    "\n",
    "\n",
    "log_reg_cf =\n",
    "kneighbors_cf =\n",
    "svc_cf =\n",
    "tree_cf =\n",
    "\n",
    "fig, ax = plt.subplots(2, 2,figsize=(22,12))\n",
    "\n",
    "\n",
    "sns.heatmap(log_reg_cf, ax=ax[0][0], annot=True)\n",
    "ax[0, 0].set_title(\"Logistic Regression \\n Confusion Matrix\", fontsize=14)\n",
    "ax[0, 0].set_xticklabels(['', ''], fontsize=14, rotation=90)\n",
    "ax[0, 0].set_yticklabels(['', ''], fontsize=14, rotation=360)\n",
    "\n",
    "sns.heatmap(kneighbors_cf, ax=ax[0][1], annot=True)\n",
    "ax[0][1].set_title(\"KNearsNeighbors \\n Confusion Matrix\", fontsize=14)\n",
    "ax[0][1].set_xticklabels(['', ''], fontsize=14, rotation=90)\n",
    "ax[0][1].set_yticklabels(['', ''], fontsize=14, rotation=360)\n",
    "\n",
    "sns.heatmap(svc_cf, ax=ax[1][0], annot=True)\n",
    "ax[1][0].set_title(\"Suppor Vector Classifier \\n Confusion Matrix\", fontsize=14)\n",
    "ax[1][0].set_xticklabels(['', ''], fontsize=14, rotation=90)\n",
    "ax[1][0].set_yticklabels(['', ''], fontsize=14, rotation=360)\n",
    "\n",
    "sns.heatmap(tree_cf, ax=ax[1][1], annot=True)\n",
    "ax[1][1].set_title(\"DecisionTree Classifier \\n Confusion Matrix\", fontsize=14)\n",
    "ax[1][1].set_xticklabels(['', ''], fontsize=14, rotation=90)\n",
    "ax[1][1].set_yticklabels(['', ''], fontsize=14, rotation=360)"
   ]
  },
  {
   "cell_type": "markdown",
   "metadata": {
    "id": "0QwYhA_uW0G5"
   },
   "source": [
    "Confusion matrix heatmaps above shows how our model doing on validation set from undersampled data, confusion matrix works as shown below"
   ]
  },
  {
   "cell_type": "markdown",
   "metadata": {
    "id": "O5TEeLzvYIw0"
   },
   "source": [
    "* Confusion matrix heatmaps above shows how our model doing on validation set from undersampled data, confusion matrix works as shown below\n",
    "\\\n",
    "![sphx_glr_plot_confusion_matrix_001.png](data:image/png;base64,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)"
   ]
  },
  {
   "cell_type": "markdown",
   "metadata": {
    "id": "RkZykERgY5w7"
   },
   "source": [
    "As we can see from the image above values in the squares along horizontal axis are the true values of a class and cells along vertical axis contains predicted values"
   ]
  },
  {
   "cell_type": "markdown",
   "metadata": {
    "id": "Jp5UNAc7XkEN"
   },
   "source": [
    "As from above discussion we now know what our values in the cofusion matrix above stand for so now we'll calculate precision and recall for each classes.\n",
    "\n",
    "*  Precision = True Positive / (True Positive + False Positive)\n",
    "*  Recall = True Positive / (True Positive + False Negative)\n",
    "*  F1-Score = (2 * Precision * Recall) / (Precision + Recall)\n",
    "\n",
    "It's evident that we need to look at recall to judege best performing model since we want to reduce False negatives for class 1(fraud)."
   ]
  },
  {
   "cell_type": "code",
   "execution_count": null,
   "metadata": {
    "colab": {
     "base_uri": "https://localhost:8080/"
    },
    "executionInfo": {
     "elapsed": 394,
     "status": "ok",
     "timestamp": 1628997461310,
     "user": {
      "displayName": "Dhvani Shah",
      "photoUrl": "https://lh3.googleusercontent.com/a-/AOh14GjWWRO4p6VF30NsVnqYt5SZkHtePts5b_H5X9PDsQ=s64",
      "userId": "07124916273541389313"
     },
     "user_tz": -330
    },
    "id": "DV0E87Cu0Fy4",
    "outputId": "40e953d0-37d7-477c-ea52-3c09a1cfb60f"
   },
   "outputs": [],
   "source": [
    "from sklearn.metrics import classification_report\n",
    "\n",
    "print('Logistic Regression:')\n",
    "print(classification_report(y_test, y_pred_log_reg))\n",
    "\n",
    "print('KNears Neighbors:')\n",
    "print(classification_report(y_test, y_pred_knear))\n",
    "\n",
    "print('Support Vector Classifier:')\n",
    "print(classification_report(y_test, y_pred_svc))\n",
    "\n",
    "print('Support Vector Classifier:')\n",
    "print(classification_report(y_test, y_pred_tree))"
   ]
  },
  {
   "cell_type": "markdown",
   "metadata": {
    "id": "hrsLCcnqsLb4"
   },
   "source": [
    "*  Here also we can see SVC outperfroms others."
   ]
  },
  {
   "cell_type": "markdown",
   "metadata": {
    "id": "TwXCBOcu0Zib"
   },
   "source": [
    "AUPRC"
   ]
  },
  {
   "cell_type": "markdown",
   "metadata": {
    "id": "dbzDItK8tHQZ"
   },
   "source": [
    "Now we'll see auprc score of SVC.\n",
    "\n",
    "There is a specific usecase of auprc score in our problem and some of the reasons you can see listed below taken from this [article](https://neptune.ai/blog/f1-score-accuracy-roc-auc-pr-auc) you can follow for a deeper dive of the metric:\n",
    "\n",
    "* *when your data is heavily imbalanced. As mentioned before, it was discussed extensively in this [article by Takaya Saito and Marc Rehmsmeier](https://www.ncbi.nlm.nih.gov/pmc/articles/PMC4349800/). The intuition is the following: since PR AUC focuses mainly on the positive class (PPV and TPR) it cares less about the frequent negative class.*\n",
    "* *when you care more about positive than negative class. If you care more about the positive class and hence PPV and TPR you should go with Precision-Recall curve and PR AUC (average precision).*"
   ]
  },
  {
   "cell_type": "code",
   "execution_count": null,
   "metadata": {
    "colab": {
     "base_uri": "https://localhost:8080/"
    },
    "executionInfo": {
     "elapsed": 409,
     "status": "ok",
     "timestamp": 1628997541774,
     "user": {
      "displayName": "Dhvani Shah",
      "photoUrl": "https://lh3.googleusercontent.com/a-/AOh14GjWWRO4p6VF30NsVnqYt5SZkHtePts5b_H5X9PDsQ=s64",
      "userId": "07124916273541389313"
     },
     "user_tz": -330
    },
    "id": "YVu5wsFw0bae",
    "outputId": "8df7e002-a907-4f13-a4cb-59a882e567de"
   },
   "outputs": [],
   "source": [
    "import sklearn.metrics\n",
    "lr_auprc = sklearn.metrics.average_precision_score(y_test,y_pred_log_reg)\n",
    "lr_auprc"
   ]
  },
  {
   "cell_type": "markdown",
   "metadata": {
    "id": "2GcazzGLoD1z"
   },
   "source": [
    "SVC has best auprc score hence finally we can choose this over the other algorithms and now we plot precision recall curve below.\n",
    "\n",
    "precision recall curve computes  precision-recall pairs for different probability thresholds.\n",
    "\n",
    "Note: this implementation is restricted to the binary classification task"
   ]
  },
  {
   "cell_type": "code",
   "execution_count": null,
   "metadata": {
    "id": "4eqKzLqo0etu"
   },
   "outputs": [],
   "source": [
    "from sklearn.metrics import precision_recall_curve\n",
    "from sklearn.metrics import plot_precision_recall_curve"
   ]
  },
  {
   "cell_type": "code",
   "execution_count": null,
   "metadata": {
    "colab": {
     "base_uri": "https://localhost:8080/",
     "height": 596
    },
    "executionInfo": {
     "elapsed": 1516,
     "status": "ok",
     "timestamp": 1628997570210,
     "user": {
      "displayName": "Dhvani Shah",
      "photoUrl": "https://lh3.googleusercontent.com/a-/AOh14GjWWRO4p6VF30NsVnqYt5SZkHtePts5b_H5X9PDsQ=s64",
      "userId": "07124916273541389313"
     },
     "user_tz": -330
    },
    "id": "CTI1gDeX0h85",
    "outputId": "d1009eaa-3a2f-401f-9e0d-73ce8a70592c"
   },
   "outputs": [],
   "source": [
    "plt.figure(figsize=(12,6))\n",
    "plot_precision_recall_curve(log_reg, X_test, y_test)\n",
    "#log_reg_pr.ax_.set_title('2-class Precision-Recall curve: '\n",
    "                   #'AP={0:0.2f}'.format(lr_auprc))\n",
    "svc_auprc = sklearn.metrics.average_precision_score(y_test,y_pred_svc)\n",
    "plot_precision_recall_curve(svc, X_test, y_test)"
   ]
  },
  {
   "cell_type": "markdown",
   "metadata": {
    "id": "il4sMfCarKgm"
   },
   "source": [
    "# Testing\n",
    "Now we'll test our models on original test data \"***original_Xtest***\".\n",
    "\n",
    "First of all let's see confusion matrix for all our models.\n",
    "\n",
    "\n",
    "* Taking predictions from logistic regression model, go ahead and complete the below cell to calculate these.\n",
    "```\n",
    "org_log_reg_pred = log_reg.predict(original_Xtest)\n",
    "```\n"
   ]
  },
  {
   "cell_type": "code",
   "execution_count": null,
   "metadata": {
    "id": "wPjGWHuh0lsH"
   },
   "outputs": [],
   "source": [
    "org_log_reg_pred = \n",
    "\n",
    "org_knears_pred = \n",
    "\n",
    "org_svc_pred = \n",
    "\n",
    "org_tree_pred ="
   ]
  },
  {
   "cell_type": "markdown",
   "metadata": {
    "id": "a4ukqI2quUvR"
   },
   "source": [
    "and now we see confusion atrix for the same, refer to the syntax below and complete the next cell.\n",
    "\n",
    "* calculating confusion matrix for logistic regression.\n",
    "```\n",
    "org_log_reg_cf = confusion_matrix(original_ytest, org_log_reg_pred)\n",
    "```\n",
    "\n"
   ]
  },
  {
   "cell_type": "code",
   "execution_count": null,
   "metadata": {
    "colab": {
     "base_uri": "https://localhost:8080/"
    },
    "executionInfo": {
     "elapsed": 392,
     "status": "ok",
     "timestamp": 1628997610396,
     "user": {
      "displayName": "Dhvani Shah",
      "photoUrl": "https://lh3.googleusercontent.com/a-/AOh14GjWWRO4p6VF30NsVnqYt5SZkHtePts5b_H5X9PDsQ=s64",
      "userId": "07124916273541389313"
     },
     "user_tz": -330
    },
    "id": "U9r6l4R10ttD",
    "outputId": "92d2ba52-2812-4d72-82c6-1f76494616f8"
   },
   "outputs": [],
   "source": [
    "org_log_reg_cf = \n",
    "org_kneighbors_cf = \n",
    "org_svc_cf = \n",
    "org_tree_cf = \n",
    "\n",
    "print(org_log_reg_cf, '\\n', org_kneighbors_cf, '\\n', org_svc_cf, '\\n', org_tree_cf )"
   ]
  },
  {
   "cell_type": "markdown",
   "metadata": {
    "id": "CQD38Y7_u93I"
   },
   "source": [
    "SVC has least False negatives as expected for fraud class.\n",
    "\n",
    "let's have a look at the classification report of the models.\n",
    "\n",
    "as we can see other models have comapreable or better numbers in F1 or precision but that is not the judging criteria for us our recall of fraud class is what concerns us the most and that we have best for SVC. "
   ]
  },
  {
   "cell_type": "code",
   "execution_count": null,
   "metadata": {
    "colab": {
     "base_uri": "https://localhost:8080/"
    },
    "executionInfo": {
     "elapsed": 397,
     "status": "ok",
     "timestamp": 1628997629745,
     "user": {
      "displayName": "Dhvani Shah",
      "photoUrl": "https://lh3.googleusercontent.com/a-/AOh14GjWWRO4p6VF30NsVnqYt5SZkHtePts5b_H5X9PDsQ=s64",
      "userId": "07124916273541389313"
     },
     "user_tz": -330
    },
    "id": "amB3Xb2u0yNL",
    "outputId": "b67f3e01-a4f0-4021-8c31-53d9c5215e6e"
   },
   "outputs": [],
   "source": [
    "print('Logistic Regression:')\n",
    "print(classification_report(original_ytest, org_log_reg_pred))\n",
    "\n",
    "print('KNears Neighbors:')\n",
    "print(classification_report(original_ytest, org_knears_pred))\n",
    "\n",
    "print('Support Vector Classifier:')\n",
    "print(classification_report(original_ytest, org_svc_pred))\n",
    "\n",
    "print('Tree Classifier:')\n",
    "print(classification_report(original_ytest, org_tree_pred))"
   ]
  },
  {
   "cell_type": "code",
   "execution_count": null,
   "metadata": {
    "colab": {
     "base_uri": "https://localhost:8080/",
     "height": 373
    },
    "executionInfo": {
     "elapsed": 3008,
     "status": "ok",
     "timestamp": 1628997672141,
     "user": {
      "displayName": "Dhvani Shah",
      "photoUrl": "https://lh3.googleusercontent.com/a-/AOh14GjWWRO4p6VF30NsVnqYt5SZkHtePts5b_H5X9PDsQ=s64",
      "userId": "07124916273541389313"
     },
     "user_tz": -330
    },
    "id": "5QE5ireB05I-",
    "outputId": "4e196954-8efd-4793-bd69-be19cbaafb21"
   },
   "outputs": [],
   "source": [
    "fig, ax = plt.subplots(1, 1,figsize=(12,6))\n",
    "plot_precision_recall_curve(log_reg, original_Xtest, original_ytest,ax=ax)\n",
    "plot_precision_recall_curve(knears_neighbors, original_Xtest, original_ytest,ax=ax)\n",
    "plot_precision_recall_curve(svc, original_Xtest, original_ytest,ax=ax)\n",
    "plot_precision_recall_curve(tree_clf, original_Xtest, original_ytest,ax=ax)\n",
    "ax.set_title('Precision - Recall Curve')\n",
    "plt.legend()"
   ]
  },
  {
   "cell_type": "code",
   "execution_count": null,
   "metadata": {
    "colab": {
     "base_uri": "https://localhost:8080/"
    },
    "executionInfo": {
     "elapsed": 382,
     "status": "ok",
     "timestamp": 1628997708390,
     "user": {
      "displayName": "Dhvani Shah",
      "photoUrl": "https://lh3.googleusercontent.com/a-/AOh14GjWWRO4p6VF30NsVnqYt5SZkHtePts5b_H5X9PDsQ=s64",
      "userId": "07124916273541389313"
     },
     "user_tz": -330
    },
    "id": "NDyDdpwO1C9m",
    "outputId": "648f583a-434e-48e2-d1cb-529321ebb836"
   },
   "outputs": [],
   "source": [
    "org_lr_auprc = sklearn.metrics.average_precision_score(original_ytest,org_log_reg_pred)\n",
    "org_lr_auprc"
   ]
  },
  {
   "cell_type": "code",
   "execution_count": null,
   "metadata": {
    "id": "MbH5luCT1LoS"
   },
   "outputs": [],
   "source": []
  }
 ],
 "metadata": {
  "colab": {
   "collapsed_sections": [
    "QOu-Lx__Ztcb",
    "siwsw0C__WO1",
    "jWFyA-k7QtlB",
    "CaVIj31NyaAL",
    "Cj8PyO3w1HXt",
    "U7dTS_oryg3P"
   ],
   "name": "Copy of Credit_Card_Fraud_Detection-Code_Saransh.ipynb",
   "provenance": []
  },
  "kernelspec": {
   "display_name": "Python 3",
   "language": "python",
   "name": "python3"
  },
  "language_info": {
   "codemirror_mode": {
    "name": "ipython",
    "version": 3
   },
   "file_extension": ".py",
   "mimetype": "text/x-python",
   "name": "python",
   "nbconvert_exporter": "python",
   "pygments_lexer": "ipython3",
   "version": "3.8.3"
  }
 },
 "nbformat": 4,
 "nbformat_minor": 1
}
